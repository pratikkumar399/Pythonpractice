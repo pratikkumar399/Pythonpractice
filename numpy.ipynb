{
 "cells": [
  {
   "cell_type": "code",
   "execution_count": 1,
   "metadata": {},
   "outputs": [
    {
     "data": {
      "text/plain": [
       "<_io.TextIOWrapper name='Sample.txt' mode='r' encoding='UTF-8'>"
      ]
     },
     "execution_count": 1,
     "metadata": {},
     "output_type": "execute_result"
    }
   ],
   "source": [
    "hello = open('Sample.txt','r')\n",
    "hello"
   ]
  },
  {
   "cell_type": "code",
   "execution_count": 2,
   "metadata": {},
   "outputs": [],
   "source": [
    "data = hello.read(100)\n",
    "# data\n",
    "# data1 = hello.readline()\n",
    "# data1"
   ]
  },
  {
   "cell_type": "code",
   "execution_count": 3,
   "metadata": {},
   "outputs": [
    {
     "name": "stdout",
     "output_type": "stream",
     "text": [
      "Lorem ipsum dolor sit amet, consectetur adipiscing elit. Vivamus condimentum sagittis lacus, laoreet luctus ligula laoreet ut. Vestibulum ullamcorper accumsan velit vel vehicula. Proin tempor lacus arcu. Nunc at elit condimentum, semper nisi et, condimentum mi. In venenatis blandit nibh at sollicitudin. Vestibulum dapibus mauris at orci maximus pellentesque. Nullam id elementum ipsum. Suspendisse cursus lobortis viverra. Proin et erat at mauris tincidunt porttitor vitae ac dui.\n",
      "\n"
     ]
    }
   ],
   "source": [
    "with open('Sample.txt','r') as file_obj:\n",
    "    data1 = file_obj.readline()\n",
    "print(data1)"
   ]
  },
  {
   "cell_type": "code",
   "execution_count": 4,
   "metadata": {},
   "outputs": [
    {
     "name": "stdout",
     "output_type": "stream",
     "text": [
      "['NameofElecticityDistributionDivision', 'electricity2017', 'Electricity2018', 'Electricity2019', ' Electricity2020', 'Electricity2021 ']\n",
      "['', '', '', '', '', '']\n",
      "['Dehradun (Rural)', '225026', '150207', '98170', '118012', '126660']\n",
      "['Mohanpur', '0', '61545', '28980', '34204', '93028']\n",
      "['Vikasnagar', '163319', '220365', '158230', '167405', '169023']\n",
      "['Rishikesh', '188645', '219787', '134488', '163322', '123417']\n",
      "['Uttarkashi', '143297', '186026', '92411', '91428', '77001']\n",
      "['Barkot', '0', '0', '5100', '10780', '54261']\n",
      "['Doiwala', '30479', '50699', '24675', '39301', '53832']\n",
      "['Dehradun (North)', '501994', '550797', '407190', '507108', '79773']\n",
      "['Dehradun (South)', '754342', '991440', '897846', '1093776', '273444']\n",
      "['Dehradun (Central)', '596883', '656460', '320204', '123254', '11634']\n",
      "['Srinagar', '25303', '35764', '43191', '75419', '91267']\n",
      "['Pauri', '78754', '77848', '49258', '83188', '66030']\n",
      "['Tehri', '329276', '460527', '299420', '359304', '405462']\n",
      "['Gopeshwar', '69004', '82476', '65765', '55514', '52939']\n",
      "['Narayanbagar', '82787', '66512', '20720', '24864', '36348']\n",
      "['Gairsain', '0', '63476', '79010', '94975', '83733']\n",
      "['Kotdwar', '88484', '107457', '55657', '233498', '194766']\n",
      "['Rudraprayag', '2351', '22000', '23010', '30156', '46959']\n",
      "['Roorkee(Urban)', '529813', '345540', '228090', '273455', '94248']\n",
      "['Roorkee(Rural)', '154768', '253268', '161770', '203140', '307017']\n",
      "['Ramnagar Roorkee', '23342', '338137', '346454', '370278', '180636']\n",
      "['Bhagwanpur', '5506', '76457', '367933', '722910', '3437105']\n",
      "['Haridwar(Urban)', '643329', '21041', '18563', '24152', '6000']\n",
      "['Haridwar(Rural)', '34258', '17672', '5051', '6501', '8098']\n",
      "['Jwalapur', '0', '60099', '504201', '618772', '168651']\n",
      "['Laksar', '33361', '206942', '188063', '250547', '220999']\n",
      "['Hadwani (Urban)', '151963', '164877', '144749', '184798', '47353']\n",
      "['Haldwani (Rural)', '36808', '222301', '19190', '27891', '429198']\n",
      "['Nainital', '157344', '226765', '188102', '252551', '115049']\n",
      "['Ramnagar', '134475', '174118', '96500', '93195', '58695']\n",
      "['Kashipur', '337068', '511866', '397530', '477036', '263394']\n",
      "['Bazpur', '165392', '215098', '135056', '165045', '149099']\n",
      "['Jaspur', '125048', '201719', '113680', '136416', '133176']\n",
      "['Rudrapur', '829615', '1011237', '594230', '705552', '395207']\n",
      "['Sitraganj', '350956', '253597', '98720', '110133', '153600']\n",
      "['Khatima', '0', '10670', '35096', '48620', '69924']\n",
      "['Almora', '70603', '98518', '76840', '69590', '68681']\n",
      "['Bageshwar', '45738', '124094', '41760', '50112', '132388']\n",
      "['Ranikhet', '32373', '42237', '12402', '17437', '14475']\n",
      "['Bhikiyasain', '0', '7870', '0', '0', '22965']\n",
      "['Pithoragarh', '122296', '155486', '111834', '134982', '109738']\n",
      "['Dharchula', '53400', '62078', '42325', '63620', '43332']\n",
      "['Champawat', '109122', '185510', '75007', '64508', '31866']\n"
     ]
    },
    {
     "data": {
      "text/plain": [
       "<_csv.reader at 0xde4b48a8e0>"
      ]
     },
     "execution_count": 4,
     "metadata": {},
     "output_type": "execute_result"
    }
   ],
   "source": [
    "import csv \n",
    "with open('Bill2.csv') as fileobj:\n",
    "    file_data = csv.reader(fileobj)\n",
    "    for row in file_data:\n",
    "        print(row)\n",
    "file_data\n"
   ]
  },
  {
   "cell_type": "markdown",
   "metadata": {},
   "source": [
    "Numpy"
   ]
  },
  {
   "cell_type": "code",
   "execution_count": 5,
   "metadata": {},
   "outputs": [
    {
     "name": "stdout",
     "output_type": "stream",
     "text": [
      "[ 1  2  3 45  5]\n"
     ]
    }
   ],
   "source": [
    "import numpy as np \n",
    "\n",
    "mylist = [1,2,3,45,5]\n",
    "arr= np.array(mylist)\n",
    "\n",
    "print(arr)"
   ]
  },
  {
   "cell_type": "code",
   "execution_count": 6,
   "metadata": {},
   "outputs": [
    {
     "data": {
      "text/plain": [
       "array([[1, 1, 1],\n",
       "       [1, 1, 1]])"
      ]
     },
     "execution_count": 6,
     "metadata": {},
     "output_type": "execute_result"
    }
   ],
   "source": [
    "array =  np.ones((2,3), dtype = int)\n",
    "array\n"
   ]
  },
  {
   "cell_type": "code",
   "execution_count": 7,
   "metadata": {},
   "outputs": [
    {
     "data": {
      "text/plain": [
       "array(['1', '2', '3', '4.5', '1', '2', '3', '4.5', '1', '2', '3', '4.5'],\n",
       "      dtype='<U11')"
      ]
     },
     "execution_count": 7,
     "metadata": {},
     "output_type": "execute_result"
    }
   ],
   "source": [
    "a =  [1,2,3 ,'4.5']\n",
    "b= np.array(a*3)\n",
    "b"
   ]
  },
  {
   "cell_type": "code",
   "execution_count": 8,
   "metadata": {},
   "outputs": [
    {
     "data": {
      "text/plain": [
       "array([[1247898896,        222,          0],\n",
       "       [         0,     131074,          0]])"
      ]
     },
     "execution_count": 8,
     "metadata": {},
     "output_type": "execute_result"
    }
   ],
   "source": [
    "b = np.empty((2,3), dtype=int)\n",
    "b"
   ]
  },
  {
   "cell_type": "code",
   "execution_count": 9,
   "metadata": {},
   "outputs": [
    {
     "data": {
      "text/plain": [
       "array([10, 12, 14, 16, 18, 20])"
      ]
     },
     "execution_count": 9,
     "metadata": {},
     "output_type": "execute_result"
    }
   ],
   "source": [
    "c= np.arange(10,21,2)\n",
    "c"
   ]
  },
  {
   "cell_type": "code",
   "execution_count": 10,
   "metadata": {},
   "outputs": [
    {
     "data": {
      "text/plain": [
       "array([ 2,  4,  6,  8, 10])"
      ]
     },
     "execution_count": 10,
     "metadata": {},
     "output_type": "execute_result"
    }
   ],
   "source": [
    "d = np.linspace(2,10,5, dtype =int)\n",
    "d"
   ]
  },
  {
   "cell_type": "code",
   "execution_count": 11,
   "metadata": {},
   "outputs": [
    {
     "data": {
      "text/plain": [
       "array([[1, 0, 0, 0],\n",
       "       [0, 1, 0, 0],\n",
       "       [0, 0, 1, 0],\n",
       "       [0, 0, 0, 1]])"
      ]
     },
     "execution_count": 11,
     "metadata": {},
     "output_type": "execute_result"
    }
   ],
   "source": [
    "e = np.identity(4,dtype=  int)\n",
    "e"
   ]
  },
  {
   "cell_type": "code",
   "execution_count": 12,
   "metadata": {},
   "outputs": [
    {
     "data": {
      "text/plain": [
       "array([[1., 0., 0., 0.],\n",
       "       [0., 1., 0., 0.],\n",
       "       [0., 0., 1., 0.]])"
      ]
     },
     "execution_count": 12,
     "metadata": {},
     "output_type": "execute_result"
    }
   ],
   "source": [
    "e= np.eye(3,4)\n",
    "e"
   ]
  },
  {
   "cell_type": "code",
   "execution_count": 13,
   "metadata": {},
   "outputs": [
    {
     "data": {
      "text/plain": [
       "array([[0.54416556, 8.05901273, 3.91296417, 7.52176078, 3.34315679,\n",
       "        2.24369408, 7.43083618, 6.32788561, 5.58444448, 5.79858157],\n",
       "       [4.80748445, 0.95872229, 1.15852718, 2.96566286, 0.05108609,\n",
       "        6.74409704, 7.63458716, 6.12335192, 6.34433523, 6.02865823],\n",
       "       [5.74296288, 5.76615415, 8.30256588, 4.78394187, 5.10357301,\n",
       "        8.63623339, 1.6998075 , 5.45018173, 9.52881499, 0.3528123 ],\n",
       "       [0.03052972, 2.07992316, 8.99579566, 7.37166807, 8.29281192,\n",
       "        6.03690855, 0.12150121, 5.90282957, 4.16891365, 1.12961093],\n",
       "       [3.2426275 , 3.21765189, 7.89125703, 5.28039311, 2.55069864,\n",
       "        1.55012022, 7.01318565, 6.35776829, 1.68440205, 6.47095611]])"
      ]
     },
     "execution_count": 13,
     "metadata": {},
     "output_type": "execute_result"
    }
   ],
   "source": [
    "f=  np.random.rand(5,10)*10\n",
    "# f.shape\n",
    "f\n"
   ]
  },
  {
   "cell_type": "code",
   "execution_count": 14,
   "metadata": {},
   "outputs": [
    {
     "data": {
      "text/plain": [
       "(3, 5)"
      ]
     },
     "execution_count": 14,
     "metadata": {},
     "output_type": "execute_result"
    }
   ],
   "source": [
    "mylist = [1,2,3,45,5]\n",
    "mylist1 = [1,2,3,45,5]\n",
    "mylist2 = [1,2,3,45,5]\n",
    "\n",
    "arr= np.array([mylist,mylist1,mylist2])\n",
    "arr.shape"
   ]
  },
  {
   "cell_type": "code",
   "execution_count": 15,
   "metadata": {},
   "outputs": [
    {
     "data": {
      "text/plain": [
       "array([[ 1,  2,  3, 45,  5],\n",
       "       [ 1,  2,  3, 45,  5],\n",
       "       [ 1,  2,  3, 45,  5]])"
      ]
     },
     "execution_count": 15,
     "metadata": {},
     "output_type": "execute_result"
    }
   ],
   "source": [
    "arr"
   ]
  },
  {
   "cell_type": "code",
   "execution_count": 16,
   "metadata": {},
   "outputs": [
    {
     "data": {
      "text/plain": [
       "array([[ 3, 45],\n",
       "       [ 3, 45]])"
      ]
     },
     "execution_count": 16,
     "metadata": {},
     "output_type": "execute_result"
    }
   ],
   "source": [
    "arr[1:,2:4]"
   ]
  },
  {
   "cell_type": "code",
   "execution_count": 17,
   "metadata": {},
   "outputs": [
    {
     "data": {
      "text/plain": [
       "array([ 2,  4,  6,  8, 10])"
      ]
     },
     "execution_count": 17,
     "metadata": {},
     "output_type": "execute_result"
    }
   ],
   "source": [
    "import numpy as np \n",
    "np.arange(2,11,2)"
   ]
  },
  {
   "cell_type": "code",
   "execution_count": 18,
   "metadata": {},
   "outputs": [
    {
     "data": {
      "text/plain": [
       "array([ 1,  2,  3, 45,  5])"
      ]
     },
     "execution_count": 18,
     "metadata": {},
     "output_type": "execute_result"
    }
   ],
   "source": [
    "arr =[ 1,  2,  3, 45,  5]\n",
    "array = np.array(arr)\n",
    "array "
   ]
  },
  {
   "cell_type": "code",
   "execution_count": 19,
   "metadata": {},
   "outputs": [
    {
     "data": {
      "text/plain": [
       "array([  1,   2,   3, 100, 100])"
      ]
     },
     "execution_count": 19,
     "metadata": {},
     "output_type": "execute_result"
    }
   ],
   "source": [
    "array[3:] = 100\n",
    "array"
   ]
  },
  {
   "cell_type": "code",
   "execution_count": 20,
   "metadata": {},
   "outputs": [
    {
     "data": {
      "text/plain": [
       "array([  1,   2,   3, 500, 500])"
      ]
     },
     "execution_count": 20,
     "metadata": {},
     "output_type": "execute_result"
    }
   ],
   "source": [
    "arra = array.copy()\n",
    "arra[3:] = 500\n",
    "arra"
   ]
  },
  {
   "cell_type": "code",
   "execution_count": 21,
   "metadata": {},
   "outputs": [
    {
     "data": {
      "text/plain": [
       "array([  3, 500, 500])"
      ]
     },
     "execution_count": 21,
     "metadata": {},
     "output_type": "execute_result"
    }
   ],
   "source": [
    "arra%2\n",
    "arra[arra>2]"
   ]
  },
  {
   "cell_type": "code",
   "execution_count": 22,
   "metadata": {},
   "outputs": [
    {
     "data": {
      "text/plain": [
       "array([[2, 4],\n",
       "       [6, 8]])"
      ]
     },
     "execution_count": 22,
     "metadata": {},
     "output_type": "execute_result"
    }
   ],
   "source": [
    "array = np.arange(2,10,2).reshape(2,2)\n",
    "array"
   ]
  },
  {
   "cell_type": "code",
   "execution_count": 23,
   "metadata": {},
   "outputs": [
    {
     "data": {
      "text/plain": [
       "array([[-0.5589616 , -0.41780441, -0.6452368 , -1.69420133],\n",
       "       [-0.33658414,  0.62615072, -0.70014583,  1.17161888],\n",
       "       [-0.98991875,  1.45834041, -0.60256967,  0.60603205],\n",
       "       [ 0.53749261, -1.56060541, -0.30402197,  0.20437217]])"
      ]
     },
     "execution_count": 23,
     "metadata": {},
     "output_type": "execute_result"
    }
   ],
   "source": [
    "import numpy as np\n",
    "arr_ex = np.random.randn(4,4)\n",
    "arr_ex"
   ]
  },
  {
   "cell_type": "code",
   "execution_count": 24,
   "metadata": {},
   "outputs": [
    {
     "data": {
      "text/plain": [
       "<AxesSubplot:ylabel='Count'>"
      ]
     },
     "execution_count": 24,
     "metadata": {},
     "output_type": "execute_result"
    },
    {
     "data": {
      "image/png": "[encoded data removed]",
      "text/plain": [
       "<Figure size 432x288 with 1 Axes>"
      ]
     },
     "metadata": {
      "needs_background": "light"
     },
     "output_type": "display_data"
    }
   ],
   "source": [
    "import seaborn as sn \n",
    "import pandas as pd\n",
    "sn.histplot(pd.DataFrame(arr_ex.reshape(16,1)))"
   ]
  }
 ],
 "metadata": {
  "interpreter": {
   "hash": "b3ba2566441a7c06988d0923437866b63cedc61552a5af99d1f4fb67d367b25f"
  },
  "kernelspec": {
   "display_name": "Python 3.9.7 64-bit ('base': conda)",
   "language": "python",
   "name": "python3"
  },
  "language_info": {
   "codemirror_mode": {
    "name": "ipython",
    "version": 3
   },
   "file_extension": ".py",
   "mimetype": "text/x-python",
   "name": "python",
   "nbconvert_exporter": "python",
   "pygments_lexer": "ipython3",
   "version": "3.9.7"
  },
  "orig_nbformat": 4
 },
 "nbformat": 4,
 "nbformat_minor": 2
}
