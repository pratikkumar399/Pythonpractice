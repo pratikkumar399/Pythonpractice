{
 "cells": [
  {
   "cell_type": "code",
   "execution_count": 23,
   "metadata": {},
   "outputs": [
    {
     "name": "stdout",
     "output_type": "stream",
     "text": [
      "Number is neither prime nor composite\n",
      "This number is compoite\n"
     ]
    }
   ],
   "source": [
    "def prime_composite(num):\n",
    "    \n",
    "    for i in range(2, num):\n",
    "        if(num%i == 0):\n",
    "            return 0\n",
    "        \n",
    "\n",
    "prime = int(input('Enter the number you want to check'))\n",
    "\n",
    "if prime == 0:\n",
    "    print(\"This number is Prime\")\n",
    "else:\n",
    "    print(\"This number is composite\")"
   ]
  },
  {
   "cell_type": "code",
   "execution_count": 53,
   "metadata": {},
   "outputs": [
    {
     "name": "stdout",
     "output_type": "stream",
     "text": [
      "This number is not Prime\n"
     ]
    }
   ],
   "source": [
    "num = int(input(\"Enter the number: \"))\n",
    "prime = False\n",
    "\n",
    "for i in range(2, num):\n",
    "    if(num%i == 0):\n",
    "        prime = False\n",
    "        break\n",
    "if prime:\n",
    "    print(\"This number is Prime\")\n",
    "else:\n",
    "    print(\"This number is not Prime\")"
   ]
  },
  {
   "cell_type": "code",
   "execution_count": 45,
   "metadata": {},
   "outputs": [
    {
     "name": "stdout",
     "output_type": "stream",
     "text": [
      "True\n"
     ]
    }
   ],
   "source": [
    "def isPrime(n) : \n",
    "    for i in range(2,n):\n",
    "        if(n%i == 0) :\n",
    "            break \n",
    "        else :\n",
    "            return True \n",
    "        return False \n",
    "\n",
    "num = int(input(\"Enter the number: \"))\n",
    "\n",
    "print(isPrime(num))"
   ]
  },
  {
   "cell_type": "code",
   "execution_count": 32,
   "metadata": {},
   "outputs": [
    {
     "name": "stdout",
     "output_type": "stream",
     "text": [
      "Natural number\n"
     ]
    }
   ],
   "source": [
    "sub1 = int(input(\"Enter first subject marks\\n\"))\n",
    "\n",
    "if(sub1>=2 ):\n",
    "    print(\"Natural number\")\n",
    "else:\n",
    "    print(\"Not a natural number\")"
   ]
  },
  {
   "cell_type": "code",
   "execution_count": 36,
   "metadata": {},
   "outputs": [
    {
     "name": "stdout",
     "output_type": "stream",
     "text": [
      "Not a armostrong number\n"
     ]
    }
   ],
   "source": [
    "num = int(input(\"Enter the number: \"))\n",
    "\n",
    "sum = 0\n",
    "m = num \n",
    "last_digit = 0 \n",
    "\n",
    "while(num > 0 ):\n",
    "    last_digit = num % 10\n",
    "    num  =num / 10\n",
    "    sum += last_digit*last_digit*last_digit\n",
    "\n",
    "if(sum == m): \n",
    "    print('Not a Armostrong number: ')\n",
    "else :\n",
    "    print('Armostrong number')\n"
   ]
  },
  {
   "cell_type": "code",
   "execution_count": 39,
   "metadata": {},
   "outputs": [
    {
     "name": "stdout",
     "output_type": "stream",
     "text": [
      "Pallindrome\n"
     ]
    }
   ],
   "source": [
    "num = int(input(\"Enter the number: \"))\n",
    "\n",
    "rev = 0\n",
    "m = num \n",
    "last_digit = 0 \n",
    "\n",
    "while(num > 0 ):\n",
    "    last_digit = num % 10\n",
    "    num  =num / 10\n",
    "    rev = rev *10 +last_digit\n",
    "\n",
    "if(rev == m): \n",
    "    print(' Not Palindorme ')\n",
    "else :\n",
    "    print('Pallindrome')"
   ]
  },
  {
   "cell_type": "code",
   "execution_count": 43,
   "metadata": {},
   "outputs": [
    {
     "name": "stdout",
     "output_type": "stream",
     "text": [
      "not a perfect number\n"
     ]
    }
   ],
   "source": [
    "num = int(input(\"Enter the number: \"))\n",
    "\n",
    "sum1 = 0 \n",
    "\n",
    "for i in range(1,num):\n",
    "    if(num%i == 0 ):\n",
    "        sum = sum + i \n",
    "\n",
    "if (sum1 == num) :\n",
    "    print('perfect number')\n",
    "else :\n",
    "    print(\"not a perfect number\")\n",
    "\n"
   ]
  }
 ],
 "metadata": {
  "interpreter": {
   "hash": "b3ba2566441a7c06988d0923437866b63cedc61552a5af99d1f4fb67d367b25f"
  },
  "kernelspec": {
   "display_name": "Python 3.9.7 ('base')",
   "language": "python",
   "name": "python3"
  },
  "language_info": {
   "codemirror_mode": {
    "name": "ipython",
    "version": 3
   },
   "file_extension": ".py",
   "mimetype": "text/x-python",
   "name": "python",
   "nbconvert_exporter": "python",
   "pygments_lexer": "ipython3",
   "version": "3.9.7"
  },
  "orig_nbformat": 4
 },
 "nbformat": 4,
 "nbformat_minor": 2
}
