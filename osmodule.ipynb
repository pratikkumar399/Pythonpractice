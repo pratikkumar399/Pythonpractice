{
 "cells": [
  {
   "cell_type": "code",
   "execution_count": 1,
   "metadata": {},
   "outputs": [
    {
     "name": "stdout",
     "output_type": "stream",
     "text": [
      "['DirEntry', 'F_OK', 'GenericAlias', 'Mapping', 'MutableMapping', 'O_APPEND', 'O_BINARY', 'O_CREAT', 'O_EXCL', 'O_NOINHERIT', 'O_RANDOM', 'O_RDONLY', 'O_RDWR', 'O_SEQUENTIAL', 'O_SHORT_LIVED', 'O_TEMPORARY', 'O_TEXT', 'O_TRUNC', 'O_WRONLY', 'P_DETACH', 'P_NOWAIT', 'P_NOWAITO', 'P_OVERLAY', 'P_WAIT', 'PathLike', 'R_OK', 'SEEK_CUR', 'SEEK_END', 'SEEK_SET', 'TMP_MAX', 'W_OK', 'X_OK', '_AddedDllDirectory', '_Environ', '__all__', '__builtins__', '__cached__', '__doc__', '__file__', '__loader__', '__name__', '__package__', '__spec__', '_check_methods', '_execvpe', '_exists', '_exit', '_fspath', '_get_exports_list', '_walk', '_wrap_close', 'abc', 'abort', 'access', 'add_dll_directory', 'altsep', 'chdir', 'chmod', 'close', 'closerange', 'cpu_count', 'curdir', 'defpath', 'device_encoding', 'devnull', 'dup', 'dup2', 'environ', 'error', 'execl', 'execle', 'execlp', 'execlpe', 'execv', 'execve', 'execvp', 'execvpe', 'extsep', 'fdopen', 'fsdecode', 'fsencode', 'fspath', 'fstat', 'fsync', 'ftruncate', 'get_exec_path', 'get_handle_inheritable', 'get_inheritable', 'get_terminal_size', 'getcwd', 'getcwdb', 'getenv', 'getlogin', 'getpid', 'getppid', 'isatty', 'kill', 'linesep', 'link', 'listdir', 'lseek', 'lstat', 'makedirs', 'mkdir', 'name', 'open', 'pardir', 'path', 'pathsep', 'pipe', 'popen', 'putenv', 'read', 'readlink', 'remove', 'removedirs', 'rename', 'renames', 'replace', 'rmdir', 'scandir', 'sep', 'set_handle_inheritable', 'set_inheritable', 'spawnl', 'spawnle', 'spawnv', 'spawnve', 'st', 'startfile', 'stat', 'stat_result', 'statvfs_result', 'strerror', 'supports_bytes_environ', 'supports_dir_fd', 'supports_effective_ids', 'supports_fd', 'supports_follow_symlinks', 'symlink', 'sys', 'system', 'terminal_size', 'times', 'times_result', 'truncate', 'umask', 'uname_result', 'unlink', 'unsetenv', 'urandom', 'utime', 'waitpid', 'waitstatus_to_exitcode', 'walk', 'write']\n"
     ]
    }
   ],
   "source": [
    "import os \n",
    "print(dir(os))"
   ]
  },
  {
   "cell_type": "code",
   "execution_count": 2,
   "metadata": {},
   "outputs": [
    {
     "name": "stdout",
     "output_type": "stream",
     "text": [
      "e:\\python\\Python Chapters\\Pythonpractice\n"
     ]
    }
   ],
   "source": [
    "# to get the current working directory \n",
    "print(os.getcwd())"
   ]
  },
  {
   "cell_type": "code",
   "execution_count": 3,
   "metadata": {},
   "outputs": [],
   "source": [
    "#to change the directory\n",
    "os.chdir('e:\\python\\Python Chapters')"
   ]
  },
  {
   "cell_type": "code",
   "execution_count": 4,
   "metadata": {},
   "outputs": [
    {
     "name": "stdout",
     "output_type": "stream",
     "text": [
      "e:\\python\\Python Chapters\n"
     ]
    }
   ],
   "source": [
    "print(os.getcwd())"
   ]
  },
  {
   "cell_type": "code",
   "execution_count": 5,
   "metadata": {},
   "outputs": [
    {
     "name": "stdout",
     "output_type": "stream",
     "text": [
      "['.vscode', '0. Introduction', '1. Chapter 1', '10. Chapter 10', '11. Chapter 11', '12. Chapter 12', '13. Chapter 13', '2. Chapter 2', '3. Chapter 3', '4. Chapter 4', '5. Chapter 5', '6. Chapter 6', '7. Chapter 7', '8. Chapter 8', '9. Chapter 9', 'Pythonpractice']\n"
     ]
    }
   ],
   "source": [
    "#  to print the folders in a directory\n",
    "print(os.listdir())"
   ]
  },
  {
   "cell_type": "code",
   "execution_count": 6,
   "metadata": {},
   "outputs": [],
   "source": [
    "os.chdir('e:\\python\\Python Chapters\\Pythonpractice')"
   ]
  },
  {
   "cell_type": "code",
   "execution_count": 8,
   "metadata": {},
   "outputs": [],
   "source": [
    "# to create a directory\n",
    "os.mkdir('osdemo/subdemo') #does not create intermediate directory\n",
    "os.makedirs('osdemo/subdemo') #creates intermediate directories "
   ]
  },
  {
   "cell_type": "code",
   "execution_count": 9,
   "metadata": {},
   "outputs": [],
   "source": [
    "# to remove or delete a directory\n",
    "# os.rmdir('osdemo/subdemo') #does not delete intermediate directories\n",
    "os.removedirs('osdemo/subdemo') #removes intermediate directories"
   ]
  },
  {
   "cell_type": "code",
   "execution_count": 11,
   "metadata": {},
   "outputs": [],
   "source": [
    "# to rename a file to a different file name\n",
    "os.rename('Sample1.txt' , 'Sample.txt')"
   ]
  },
  {
   "cell_type": "code",
   "execution_count": 12,
   "metadata": {},
   "outputs": [
    {
     "name": "stdout",
     "output_type": "stream",
     "text": [
      "os.stat_result(st_mode=33206, st_ino=281474976840770, st_dev=2183061623, st_nlink=1, st_uid=0, st_gid=0, st_size=6737, st_atime=1643976475, st_mtime=1635433034, st_ctime=1643976475)\n"
     ]
    }
   ],
   "source": [
    "# to find info of a file \n",
    "print(os.stat('Sample.txt'))"
   ]
  },
  {
   "cell_type": "code",
   "execution_count": 16,
   "metadata": {},
   "outputs": [
    {
     "name": "stdout",
     "output_type": "stream",
     "text": [
      "2022-03-06 00:34:31.760047\n"
     ]
    }
   ],
   "source": [
    "from datetime import datetime\n",
    "modification_time =os.stat('Sample.txt').st_mtime\n",
    "print(datetime.fromtimestamp(modification_time))"
   ]
  },
  {
   "cell_type": "code",
   "execution_count": 20,
   "metadata": {},
   "outputs": [
    {
     "name": "stdout",
     "output_type": "stream",
     "text": [
      "Current path :  e:\\python\\Python Chapters\\Pythonpractice\n",
      "Directory names :  ['.git', '.idea', '.vscode', '__pycache__']\n",
      "File names :  ['area_of_circle.py', 'Bill2.csv', 'climate.txt', 'climate_results.txt', 'colorhist.py', 'dashedline.py', 'elecricitybill.py', 'example.py', 'Fig.jpg', 'hashtable.py', 'hirst-painting-start.zip', 'image.jpg', 'listen.py', 'main.py', 'matplotlibrary.ipynb', 'mul.py', 'numpy.ipynb', 'oops1.py', 'osmodule.ipynb', 'pandas.ipynb', 'practice.ipynb', 'randomwalk.py', 'readingcsv.py', 'README.md', 'Sample.txt', 'shapes1.py', 'spirograph.py', 'tempCodeRunnerFile.ipynb', 'tempCodeRunnerFile.py', 'test.csv', 'Test1.csv', 'Test1.xlsx', 'train.csv', 'turtle1.py', 'turtlerace.py']\n",
      "\n",
      "Current path :  e:\\python\\Python Chapters\\Pythonpractice\\.git\n",
      "Directory names :  ['fsmonitor--daemon', 'hooks', 'info', 'logs', 'objects', 'refs']\n",
      "File names :  ['COMMIT_EDITMSG', 'config', 'description', 'FETCH_HEAD', 'HEAD', 'index', 'ORIG_HEAD']\n",
      "\n",
      "Current path :  e:\\python\\Python Chapters\\Pythonpractice\\.git\\fsmonitor--daemon\n",
      "Directory names :  ['cookies']\n",
      "File names :  []\n",
      "\n",
      "Current path :  e:\\python\\Python Chapters\\Pythonpractice\\.git\\fsmonitor--daemon\\cookies\n",
      "Directory names :  []\n",
      "File names :  []\n",
      "\n",
      "Current path :  e:\\python\\Python Chapters\\Pythonpractice\\.git\\hooks\n",
      "Directory names :  []\n",
      "File names :  ['applypatch-msg.sample', 'commit-msg.sample', 'fsmonitor-watchman.sample', 'post-update.sample', 'pre-applypatch.sample', 'pre-commit.sample', 'pre-merge-commit.sample', 'pre-push.sample', 'pre-rebase.sample', 'pre-receive.sample', 'prepare-commit-msg.sample', 'push-to-checkout.sample', 'update.sample']\n",
      "\n",
      "Current path :  e:\\python\\Python Chapters\\Pythonpractice\\.git\\info\n",
      "Directory names :  []\n",
      "File names :  ['exclude']\n",
      "\n",
      "Current path :  e:\\python\\Python Chapters\\Pythonpractice\\.git\\logs\n",
      "Directory names :  ['refs']\n",
      "File names :  ['HEAD']\n",
      "\n",
      "Current path :  e:\\python\\Python Chapters\\Pythonpractice\\.git\\logs\\refs\n",
      "Directory names :  ['heads', 'remotes']\n",
      "File names :  []\n",
      "\n",
      "Current path :  e:\\python\\Python Chapters\\Pythonpractice\\.git\\logs\\refs\\heads\n",
      "Directory names :  []\n",
      "File names :  ['master']\n",
      "\n",
      "Current path :  e:\\python\\Python Chapters\\Pythonpractice\\.git\\logs\\refs\\remotes\n",
      "Directory names :  ['origin']\n",
      "File names :  []\n",
      "\n",
      "Current path :  e:\\python\\Python Chapters\\Pythonpractice\\.git\\logs\\refs\\remotes\\origin\n",
      "Directory names :  []\n",
      "File names :  ['master']\n",
      "\n",
      "Current path :  e:\\python\\Python Chapters\\Pythonpractice\\.git\\objects\n",
      "Directory names :  ['01', '06', '0b', '10', '11', '12', '17', '19', '1b', '1c', '20', '26', '29', '2b', '2c', '2d', '2f', '33', '37', '38', '4a', '4e', '52', '53', '54', '56', '5e', '62', '63', '64', '65', '6c', '73', '75', '76', '7a', '7d', '7f', '88', '89', '8b', '90', '95', '98', '9b', '9c', '9d', '9f', 'a7', 'a8', 'b4', 'b7', 'b8', 'b9', 'c0', 'c2', 'c9', 'cb', 'cd', 'd0', 'd1', 'd7', 'd9', 'dd', 'e1', 'e2', 'e3', 'e8', 'ec', 'f3', 'fc', 'info', 'pack']\n",
      "File names :  []\n",
      "\n",
      "Current path :  e:\\python\\Python Chapters\\Pythonpractice\\.git\\objects\\01\n",
      "Directory names :  []\n",
      "File names :  ['dc427bc5a974df0ee9919ee86e59f01db2608a']\n",
      "\n",
      "Current path :  e:\\python\\Python Chapters\\Pythonpractice\\.git\\objects\\06\n",
      "Directory names :  []\n",
      "File names :  ['0e667bda288dc24053ba7bc9cde3ae120ba2d7']\n",
      "\n",
      "Current path :  e:\\python\\Python Chapters\\Pythonpractice\\.git\\objects\\0b\n",
      "Directory names :  []\n",
      "File names :  ['856741537c43015320f30be5cfeb916e2b9600']\n",
      "\n",
      "Current path :  e:\\python\\Python Chapters\\Pythonpractice\\.git\\objects\\10\n",
      "Directory names :  []\n",
      "File names :  ['5ce2da2d6447d11dfe32bfb846c3d5b199fc99']\n",
      "\n",
      "Current path :  e:\\python\\Python Chapters\\Pythonpractice\\.git\\objects\\11\n",
      "Directory names :  []\n",
      "File names :  ['173ba30a546ed5e58f98142761ab7941acc46d', '634033c979b498cac21457569b7a5c8007cf73']\n",
      "\n",
      "Current path :  e:\\python\\Python Chapters\\Pythonpractice\\.git\\objects\\12\n",
      "Directory names :  []\n",
      "File names :  ['4e13613afb65b9774f63b1b424ace7cb170e5e']\n",
      "\n",
      "Current path :  e:\\python\\Python Chapters\\Pythonpractice\\.git\\objects\\17\n",
      "Directory names :  []\n",
      "File names :  ['161cd8ad1a8a557e36c405e10a4e0c86d481f9']\n",
      "\n",
      "Current path :  e:\\python\\Python Chapters\\Pythonpractice\\.git\\objects\\19\n",
      "Directory names :  []\n",
      "File names :  ['aa4a3b2613256df64468ced11557085259a2f9']\n",
      "\n",
      "Current path :  e:\\python\\Python Chapters\\Pythonpractice\\.git\\objects\\1b\n",
      "Directory names :  []\n",
      "File names :  ['782f707d7ba503e82b5fce939ca222d02b393c']\n",
      "\n",
      "Current path :  e:\\python\\Python Chapters\\Pythonpractice\\.git\\objects\\1c\n",
      "Directory names :  []\n",
      "File names :  ['aa8aba8421c30085897c770f7663cf0c9c37ff']\n",
      "\n",
      "Current path :  e:\\python\\Python Chapters\\Pythonpractice\\.git\\objects\\20\n",
      "Directory names :  []\n",
      "File names :  ['da62e214ca01bf94a8e7ac8451f5b0bf94c2ad']\n",
      "\n",
      "Current path :  e:\\python\\Python Chapters\\Pythonpractice\\.git\\objects\\26\n",
      "Directory names :  []\n",
      "File names :  ['d33521af10bcc7fd8cea344038eaaeb78d0ef5']\n",
      "\n",
      "Current path :  e:\\python\\Python Chapters\\Pythonpractice\\.git\\objects\\29\n",
      "Directory names :  []\n",
      "File names :  ['b4ada98c20c57d93130ac7e158332d01f96f6d']\n",
      "\n",
      "Current path :  e:\\python\\Python Chapters\\Pythonpractice\\.git\\objects\\2b\n",
      "Directory names :  []\n",
      "File names :  ['6b4fff441fb8f396765a24dc9613f4f468f8b6']\n",
      "\n",
      "Current path :  e:\\python\\Python Chapters\\Pythonpractice\\.git\\objects\\2c\n",
      "Directory names :  []\n",
      "File names :  ['a551bed1eedaba6b00d32844710b0357ce34b3']\n",
      "\n",
      "Current path :  e:\\python\\Python Chapters\\Pythonpractice\\.git\\objects\\2d\n",
      "Directory names :  []\n",
      "File names :  ['b92c57b216a874ba9b42fc4f3fcb9dc05f63e2']\n",
      "\n",
      "Current path :  e:\\python\\Python Chapters\\Pythonpractice\\.git\\objects\\2f\n",
      "Directory names :  []\n",
      "File names :  ['9e7d0f955aeadc8dcf58b49ab39219ab93ca08']\n",
      "\n",
      "Current path :  e:\\python\\Python Chapters\\Pythonpractice\\.git\\objects\\33\n",
      "Directory names :  []\n",
      "File names :  ['0820675c264c2f44d33f5a7c79aaebfd36372a']\n",
      "\n",
      "Current path :  e:\\python\\Python Chapters\\Pythonpractice\\.git\\objects\\37\n",
      "Directory names :  []\n",
      "File names :  ['a9c805a0f259940ae207fb4c97ca932c0ae8e9']\n",
      "\n",
      "Current path :  e:\\python\\Python Chapters\\Pythonpractice\\.git\\objects\\38\n",
      "Directory names :  []\n",
      "File names :  ['fc649a196d561a3d5f640b60b6c742c62d9c09']\n",
      "\n",
      "Current path :  e:\\python\\Python Chapters\\Pythonpractice\\.git\\objects\\4a\n",
      "Directory names :  []\n",
      "File names :  ['492d29a3f4d2ef4dcad2767b4f4c79cca6c78a']\n",
      "\n",
      "Current path :  e:\\python\\Python Chapters\\Pythonpractice\\.git\\objects\\4e\n",
      "Directory names :  []\n",
      "File names :  ['c18a366c3ed6001f2a9999962cf47901fbf21b']\n",
      "\n",
      "Current path :  e:\\python\\Python Chapters\\Pythonpractice\\.git\\objects\\52\n",
      "Directory names :  []\n",
      "File names :  ['4ab79affd959463553f44ef5c72a01c436e9ac']\n",
      "\n",
      "Current path :  e:\\python\\Python Chapters\\Pythonpractice\\.git\\objects\\53\n",
      "Directory names :  []\n",
      "File names :  ['29b4a9edc1534377de7016b91e122bcb1e679d']\n",
      "\n",
      "Current path :  e:\\python\\Python Chapters\\Pythonpractice\\.git\\objects\\54\n",
      "Directory names :  []\n",
      "File names :  ['d411a788724df169779fdab9523009d395b506']\n",
      "\n",
      "Current path :  e:\\python\\Python Chapters\\Pythonpractice\\.git\\objects\\56\n",
      "Directory names :  []\n",
      "File names :  ['fc1101b926c5da2810f1252e1b85ef996f5477']\n",
      "\n",
      "Current path :  e:\\python\\Python Chapters\\Pythonpractice\\.git\\objects\\5e\n",
      "Directory names :  []\n",
      "File names :  ['1916458066d19b7f9b124994c78430e7a25daa']\n",
      "\n",
      "Current path :  e:\\python\\Python Chapters\\Pythonpractice\\.git\\objects\\62\n",
      "Directory names :  []\n",
      "File names :  ['5b81c983de43ac3451d99996919508d44b15bd', 'e72de05b38edb7a69ce7704b08d2021e19923e']\n",
      "\n",
      "Current path :  e:\\python\\Python Chapters\\Pythonpractice\\.git\\objects\\63\n",
      "Directory names :  []\n",
      "File names :  ['66f28e6cb6ad505b4900f6b3123d28287ec482']\n",
      "\n",
      "Current path :  e:\\python\\Python Chapters\\Pythonpractice\\.git\\objects\\64\n",
      "Directory names :  []\n",
      "File names :  ['df7e24df635c760a21e0d8beb1849ed7907885']\n",
      "\n",
      "Current path :  e:\\python\\Python Chapters\\Pythonpractice\\.git\\objects\\65\n",
      "Directory names :  []\n",
      "File names :  ['6156b7ed0d145b1a873b895aa280166ae51c99']\n",
      "\n",
      "Current path :  e:\\python\\Python Chapters\\Pythonpractice\\.git\\objects\\6c\n",
      "Directory names :  []\n",
      "File names :  ['4c8e274dbbc117dc3294476eac96df09b6e38d', '60ae541c7859c86c79084d227ec75e70bd9a03']\n",
      "\n",
      "Current path :  e:\\python\\Python Chapters\\Pythonpractice\\.git\\objects\\73\n",
      "Directory names :  []\n",
      "File names :  ['a3e8944d67b2e11ff2aa7d3d12d1eef59b59dc']\n",
      "\n",
      "Current path :  e:\\python\\Python Chapters\\Pythonpractice\\.git\\objects\\75\n",
      "Directory names :  []\n",
      "File names :  ['b73015ce826156d8b0cfac8c5f128568c59f70']\n",
      "\n",
      "Current path :  e:\\python\\Python Chapters\\Pythonpractice\\.git\\objects\\76\n",
      "Directory names :  []\n",
      "File names :  ['94b22b3043c87d4c8416d46b36a9a2ee25223a']\n",
      "\n",
      "Current path :  e:\\python\\Python Chapters\\Pythonpractice\\.git\\objects\\7a\n",
      "Directory names :  []\n",
      "File names :  ['85af69364fc20c710e0c15afd2aff7b03a7f24']\n",
      "\n",
      "Current path :  e:\\python\\Python Chapters\\Pythonpractice\\.git\\objects\\7d\n",
      "Directory names :  []\n",
      "File names :  ['0808d95fd361388aa28189e59cb373c2229b46']\n",
      "\n",
      "Current path :  e:\\python\\Python Chapters\\Pythonpractice\\.git\\objects\\7f\n",
      "Directory names :  []\n",
      "File names :  ['3a4a55f370e8ed9ab90ff91a2e0719d258ed56']\n",
      "\n",
      "Current path :  e:\\python\\Python Chapters\\Pythonpractice\\.git\\objects\\88\n",
      "Directory names :  []\n",
      "File names :  ['eae862902a502ea41e6e0445aa7b807801c3f4']\n",
      "\n",
      "Current path :  e:\\python\\Python Chapters\\Pythonpractice\\.git\\objects\\89\n",
      "Directory names :  []\n",
      "File names :  ['adeebe992ca9dcee1615ff23225ad305ed377d']\n",
      "\n",
      "Current path :  e:\\python\\Python Chapters\\Pythonpractice\\.git\\objects\\8b\n",
      "Directory names :  []\n",
      "File names :  ['5d153b7d0e56f0a6336936940e1e5f50a4b3eb']\n",
      "\n",
      "Current path :  e:\\python\\Python Chapters\\Pythonpractice\\.git\\objects\\90\n",
      "Directory names :  []\n",
      "File names :  ['1abc44a888b909948f8e76ecbcb72ead2a5e5b']\n",
      "\n",
      "Current path :  e:\\python\\Python Chapters\\Pythonpractice\\.git\\objects\\95\n",
      "Directory names :  []\n",
      "File names :  ['fb22a5ac591dee2f20dac626e0e9244ce5d708']\n",
      "\n",
      "Current path :  e:\\python\\Python Chapters\\Pythonpractice\\.git\\objects\\98\n",
      "Directory names :  []\n",
      "File names :  ['42ed819b4a6dfa8e64562d4c3fef8db36c8ef3']\n",
      "\n",
      "Current path :  e:\\python\\Python Chapters\\Pythonpractice\\.git\\objects\\9b\n",
      "Directory names :  []\n",
      "File names :  ['de493dcf98ee8daeca62e410dcc1819905fdf3']\n",
      "\n",
      "Current path :  e:\\python\\Python Chapters\\Pythonpractice\\.git\\objects\\9c\n",
      "Directory names :  []\n",
      "File names :  ['fec05380c1dc8da8f298cd4876dffaedd5b150']\n",
      "\n",
      "Current path :  e:\\python\\Python Chapters\\Pythonpractice\\.git\\objects\\9d\n",
      "Directory names :  []\n",
      "File names :  ['eff5f59963908172b57b1982590677f0b35ea7']\n",
      "\n",
      "Current path :  e:\\python\\Python Chapters\\Pythonpractice\\.git\\objects\\9f\n",
      "Directory names :  []\n",
      "File names :  ['513d4432fb551f48baf9b984e0f02c950f090e']\n",
      "\n",
      "Current path :  e:\\python\\Python Chapters\\Pythonpractice\\.git\\objects\\a7\n",
      "Directory names :  []\n",
      "File names :  ['fd934e8174b7f4b4b885782df9f1412651b0f7']\n",
      "\n",
      "Current path :  e:\\python\\Python Chapters\\Pythonpractice\\.git\\objects\\a8\n",
      "Directory names :  []\n",
      "File names :  ['35752ace954dbcbc895e4596c34e721d91f043']\n",
      "\n",
      "Current path :  e:\\python\\Python Chapters\\Pythonpractice\\.git\\objects\\b4\n",
      "Directory names :  []\n",
      "File names :  ['569fe2f51270f5e530d0cd396359db00c40eba']\n",
      "\n",
      "Current path :  e:\\python\\Python Chapters\\Pythonpractice\\.git\\objects\\b7\n",
      "Directory names :  []\n",
      "File names :  ['7f5889e0970c20df2ec9f30eefeae18cc39a2b', 'ae17a6e422737ce2f0cfe6e59fae34bbcef2d4']\n",
      "\n",
      "Current path :  e:\\python\\Python Chapters\\Pythonpractice\\.git\\objects\\b8\n",
      "Directory names :  []\n",
      "File names :  ['e631ac3d42d887dc0eddfe503573c52a08ea66']\n",
      "\n",
      "Current path :  e:\\python\\Python Chapters\\Pythonpractice\\.git\\objects\\b9\n",
      "Directory names :  []\n",
      "File names :  ['8e99d72fe8792e6d510ff9d0b5a23c00f94a8d']\n",
      "\n",
      "Current path :  e:\\python\\Python Chapters\\Pythonpractice\\.git\\objects\\c0\n",
      "Directory names :  []\n",
      "File names :  ['e1c5e318182fe695b79b5bac97848b17c5b6a5']\n",
      "\n",
      "Current path :  e:\\python\\Python Chapters\\Pythonpractice\\.git\\objects\\c2\n",
      "Directory names :  []\n",
      "File names :  ['d6fcd0b6145505425103593a5c8df07fdcd670', 'e3d89a9d540eace66717fe5e6dc9090e87b6db']\n",
      "\n",
      "Current path :  e:\\python\\Python Chapters\\Pythonpractice\\.git\\objects\\c9\n",
      "Directory names :  []\n",
      "File names :  ['263e9717e2bcbf71a6ec45ea4bad1360b5d2af', '32f02d85f2f28455557b4d5205ae41982a8744']\n",
      "\n",
      "Current path :  e:\\python\\Python Chapters\\Pythonpractice\\.git\\objects\\cb\n",
      "Directory names :  []\n",
      "File names :  ['d79fefa9f5005eaaa8033d57e9e3f556776f65']\n",
      "\n",
      "Current path :  e:\\python\\Python Chapters\\Pythonpractice\\.git\\objects\\cd\n",
      "Directory names :  []\n",
      "File names :  ['cf2b4cdf758f4f971b0140a6fe3103b6db60a0']\n",
      "\n",
      "Current path :  e:\\python\\Python Chapters\\Pythonpractice\\.git\\objects\\d0\n",
      "Directory names :  []\n",
      "File names :  ['876a78d06ac03b5d78c8dcdb95570281c6f1d6']\n",
      "\n",
      "Current path :  e:\\python\\Python Chapters\\Pythonpractice\\.git\\objects\\d1\n",
      "Directory names :  []\n",
      "File names :  ['2ead3974964dce90f19cfbaf2b68b611e43a70']\n",
      "\n",
      "Current path :  e:\\python\\Python Chapters\\Pythonpractice\\.git\\objects\\d7\n",
      "Directory names :  []\n",
      "File names :  ['99d8b45ca7a8890967e126f36035c0623439e4']\n",
      "\n",
      "Current path :  e:\\python\\Python Chapters\\Pythonpractice\\.git\\objects\\d9\n",
      "Directory names :  []\n",
      "File names :  ['256f68630e53aea53250726738f834ff878f97']\n",
      "\n",
      "Current path :  e:\\python\\Python Chapters\\Pythonpractice\\.git\\objects\\dd\n",
      "Directory names :  []\n",
      "File names :  ['e9bfc009d3da41d9c72cf520e7e820644a1c07']\n",
      "\n",
      "Current path :  e:\\python\\Python Chapters\\Pythonpractice\\.git\\objects\\e1\n",
      "Directory names :  []\n",
      "File names :  ['a39d1c775e6fa2ab5c019cb7b4aa134e4e1fdd']\n",
      "\n",
      "Current path :  e:\\python\\Python Chapters\\Pythonpractice\\.git\\objects\\e2\n",
      "Directory names :  []\n",
      "File names :  ['5cdc82e479724d71a88c6da9e2d9a6bd83b8de']\n",
      "\n",
      "Current path :  e:\\python\\Python Chapters\\Pythonpractice\\.git\\objects\\e3\n",
      "Directory names :  []\n",
      "File names :  ['1799e06cb507588fd1089a1ed0391802cd681f']\n",
      "\n",
      "Current path :  e:\\python\\Python Chapters\\Pythonpractice\\.git\\objects\\e8\n",
      "Directory names :  []\n",
      "File names :  ['0a9cbafb217352047b1df11557c1d12c3623e2']\n",
      "\n",
      "Current path :  e:\\python\\Python Chapters\\Pythonpractice\\.git\\objects\\ec\n",
      "Directory names :  []\n",
      "File names :  ['b84d9bb3d6e0157f2be9f9187bb886284b5228']\n",
      "\n",
      "Current path :  e:\\python\\Python Chapters\\Pythonpractice\\.git\\objects\\f3\n",
      "Directory names :  []\n",
      "File names :  ['1241220ca3976ee776987929324169f800d1ca']\n",
      "\n",
      "Current path :  e:\\python\\Python Chapters\\Pythonpractice\\.git\\objects\\fc\n",
      "Directory names :  []\n",
      "File names :  ['cf7e60e180ab51d8f69688d2a8d447f0e8c0ee']\n",
      "\n",
      "Current path :  e:\\python\\Python Chapters\\Pythonpractice\\.git\\objects\\info\n",
      "Directory names :  []\n",
      "File names :  []\n",
      "\n",
      "Current path :  e:\\python\\Python Chapters\\Pythonpractice\\.git\\objects\\pack\n",
      "Directory names :  []\n",
      "File names :  []\n",
      "\n",
      "Current path :  e:\\python\\Python Chapters\\Pythonpractice\\.git\\refs\n",
      "Directory names :  ['heads', 'remotes', 'tags']\n",
      "File names :  []\n",
      "\n",
      "Current path :  e:\\python\\Python Chapters\\Pythonpractice\\.git\\refs\\heads\n",
      "Directory names :  []\n",
      "File names :  ['master']\n",
      "\n",
      "Current path :  e:\\python\\Python Chapters\\Pythonpractice\\.git\\refs\\remotes\n",
      "Directory names :  ['origin']\n",
      "File names :  []\n",
      "\n",
      "Current path :  e:\\python\\Python Chapters\\Pythonpractice\\.git\\refs\\remotes\\origin\n",
      "Directory names :  []\n",
      "File names :  ['master']\n",
      "\n",
      "Current path :  e:\\python\\Python Chapters\\Pythonpractice\\.git\\refs\\tags\n",
      "Directory names :  []\n",
      "File names :  []\n",
      "\n",
      "Current path :  e:\\python\\Python Chapters\\Pythonpractice\\.idea\n",
      "Directory names :  ['inspectionProfiles']\n",
      "File names :  ['.gitignore', 'misc.xml', 'modules.xml', 'Pythonpractice.iml', 'workspace.xml']\n",
      "\n",
      "Current path :  e:\\python\\Python Chapters\\Pythonpractice\\.idea\\inspectionProfiles\n",
      "Directory names :  []\n",
      "File names :  ['profiles_settings.xml', 'Project_Default.xml']\n",
      "\n",
      "Current path :  e:\\python\\Python Chapters\\Pythonpractice\\.vscode\n",
      "Directory names :  []\n",
      "File names :  ['settings.json']\n",
      "\n",
      "Current path :  e:\\python\\Python Chapters\\Pythonpractice\\__pycache__\n",
      "Directory names :  []\n",
      "File names :  ['turtle.cpython-39.pyc']\n",
      "\n"
     ]
    }
   ],
   "source": [
    "# prints all the directory in the path\n",
    "for dirpath , dirnames , filenames in os.walk('e:\\python\\Python Chapters\\Pythonpractice') :\n",
    "    print('Current path : ' , dirpath)\n",
    "    print('Directory names : ' , dirnames)\n",
    "    print('File names : ' , filenames)\n",
    "    print()"
   ]
  },
  {
   "cell_type": "code",
   "execution_count": 24,
   "metadata": {},
   "outputs": [
    {
     "name": "stdout",
     "output_type": "stream",
     "text": [
      "None\n"
     ]
    }
   ],
   "source": [
    "print(os.environ.get('HOME'))"
   ]
  },
  {
   "cell_type": "code",
   "execution_count": 29,
   "metadata": {},
   "outputs": [
    {
     "data": {
      "text/plain": [
       "'e:\\\\python\\\\Python Chapters\\\\test.txt'"
      ]
     },
     "execution_count": 29,
     "metadata": {},
     "output_type": "execute_result"
    }
   ],
   "source": [
    "file_path = os.path.join('e:\\python\\Python Chapters','test.txt')\n",
    "file_path"
   ]
  }
 ],
 "metadata": {
  "interpreter": {
   "hash": "b3ba2566441a7c06988d0923437866b63cedc61552a5af99d1f4fb67d367b25f"
  },
  "kernelspec": {
   "display_name": "Python 3.9.7 ('base')",
   "language": "python",
   "name": "python3"
  },
  "language_info": {
   "codemirror_mode": {
    "name": "ipython",
    "version": 3
   },
   "file_extension": ".py",
   "mimetype": "text/x-python",
   "name": "python",
   "nbconvert_exporter": "python",
   "pygments_lexer": "ipython3",
   "version": "3.9.7"
  },
  "orig_nbformat": 4
 },
 "nbformat": 4,
 "nbformat_minor": 2
}
