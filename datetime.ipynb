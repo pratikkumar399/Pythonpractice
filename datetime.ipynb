{
 "cells": [
  {
   "cell_type": "code",
   "execution_count": 1,
   "metadata": {},
   "outputs": [],
   "source": [
    "import datetime "
   ]
  },
  {
   "cell_type": "code",
   "execution_count": 4,
   "metadata": {},
   "outputs": [
    {
     "name": "stdout",
     "output_type": "stream",
     "text": [
      "2022-03-06\n"
     ]
    }
   ],
   "source": [
    "d = datetime.date(2022,3,6)\n",
    "print(d)"
   ]
  },
  {
   "cell_type": "code",
   "execution_count": 8,
   "metadata": {},
   "outputs": [
    {
     "name": "stdout",
     "output_type": "stream",
     "text": [
      "2022-03-06 23:40:40.329990\n",
      "<built-in method date of datetime.datetime object at 0x00000085AFBDBA20>\n",
      "6\n",
      "7\n"
     ]
    }
   ],
   "source": [
    "tday = datetime.datetime.today()\n",
    "print(tday)\n",
    "print(tday.date)\n",
    "print(tday.weekday())\n",
    "print(tday.isoweekday())"
   ]
  },
  {
   "cell_type": "code",
   "execution_count": 9,
   "metadata": {},
   "outputs": [],
   "source": [
    "tdelta = datetime.timedelta(days= 7)"
   ]
  },
  {
   "cell_type": "code",
   "execution_count": 10,
   "metadata": {},
   "outputs": [
    {
     "name": "stdout",
     "output_type": "stream",
     "text": [
      "2022-03-13 23:40:40.329990\n"
     ]
    }
   ],
   "source": [
    "print(tday + tdelta)"
   ]
  },
  {
   "cell_type": "code",
   "execution_count": 11,
   "metadata": {},
   "outputs": [
    {
     "name": "stdout",
     "output_type": "stream",
     "text": [
      "2022-03-06 18:27:54 UTC+0000\n",
      "2022-03-06 23:57:54 IST+0530\n",
      "2022-03-06 20:27:54 EET+0200\n",
      "2022-03-06 13:27:54 EST-0500\n"
     ]
    }
   ],
   "source": [
    "from datetime import datetime\n",
    "from pytz import timezone\n",
    "\n",
    "format = \"%Y-%m-%d %H:%M:%S %Z%z\"\n",
    "\n",
    "# Current time in UTC\n",
    "now_utc = datetime.now(timezone('UTC'))\n",
    "print(now_utc.strftime(format))\n",
    "\n",
    "timezones = ['Asia/Kolkata', 'Europe/Kiev', 'America/New_York']\n",
    "\n",
    "for tzone in timezones:\n",
    "\n",
    "\t# Convert to Asia/Kolkata time zone\n",
    "\tnow_asia = now_utc.astimezone(timezone(tzone))\n",
    "\tprint(now_asia.strftime(format))\n"
   ]
  }
 ],
 "metadata": {
  "interpreter": {
   "hash": "b3ba2566441a7c06988d0923437866b63cedc61552a5af99d1f4fb67d367b25f"
  },
  "kernelspec": {
   "display_name": "Python 3.9.7 ('base')",
   "language": "python",
   "name": "python3"
  },
  "language_info": {
   "codemirror_mode": {
    "name": "ipython",
    "version": 3
   },
   "file_extension": ".py",
   "mimetype": "text/x-python",
   "name": "python",
   "nbconvert_exporter": "python",
   "pygments_lexer": "ipython3",
   "version": "3.9.7"
  },
  "orig_nbformat": 4
 },
 "nbformat": 4,
 "nbformat_minor": 2
}
