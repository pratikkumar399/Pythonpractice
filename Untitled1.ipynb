{
 "cells": [
  {
   "cell_type": "code",
   "execution_count": 16,
   "id": "98f31305",
   "metadata": {},
   "outputs": [
    {
     "name": "stdout",
     "output_type": "stream",
     "text": [
      "['NameofElecticityDistributionDivision', 'electricity2017', 'Electricity2018', 'Electricity2019', ' Electricity2020', 'Electricity2021 ']\n",
      "['', '', '', '', '', '']\n",
      "['Dehradun (Rural', '225026', '150207', '98170', '118012', '126660']\n",
      "['Mohanpur', '0', '61545', '28980', '34204', '93028']\n",
      "['Vikasnagar', '163319', '220365', '158230', '167405', '169023']\n",
      "['Rishikesh', '188645', '219787', '134488', '163322', '123417']\n",
      "['Uttarkashi', '143297', '186026', '92411', '91428', '77001']\n",
      "['Barkot', '0', '0', '5100', '10780', '54261']\n",
      "['Doiwala', '30479', '50699', '24675', '39301', '53832']\n",
      "['Dehradun (North)', '501994', '550797', '407190', '507108', '79773']\n",
      "['Dehradun (South)', '754342', '991440', '897846', '1093776', '273444']\n",
      "['Dehradun (Central)', '596883', '656460', '320204', '123254', '11634']\n",
      "['Srinagar', '25303', '35764', '43191', '75419', '91267']\n",
      "['Pauri', '78754', '77848', '49258', '83188', '66030']\n",
      "['Tehri', '329276', '460527', '299420', '359304', '405462']\n",
      "['Gopeshwar', '69004', '82476', '65765', '55514', '52939']\n",
      "['Narayanbagar', '82787', '66512', '20720', '24864', '36348']\n",
      "['Gairsain', '0', '63476', '79010', '94975', '83733']\n",
      "['Kotdwar', '88484', '107457', '55657', '233498', '194766']\n",
      "['Rudraprayag', '2351', '22000', '23010', '30156', '46959']\n",
      "['Roorkee(Urban)', '529813', '345540', '228090', '273455', '94248']\n",
      "['Roorkee(Rural)', '154768', '253268', '161770', '203140', '307017']\n",
      "['Ramnagar Roorkee', '23342', '338137', '346454', '370278', '180636']\n",
      "['Bhagwanpur', '5506', '76457', '367933', '722910', '3437105']\n",
      "['Haridwar(Urban)', '643329', '21041', '18563', '24152', '6000']\n",
      "['Haridwar(Rural)', '34258', '17672', '5051', '6501', '8098']\n",
      "['Jwalapur', '0', '60099', '504201', '618772', '168651']\n",
      "['Laksar', '33361', '206942', '188063', '250547', '220999']\n",
      "['Hadwani (Urban)', '151963', '164877', '144749', '184798', '47353']\n",
      "['Haldwani (Rural)', '36808', '222301', '19190', '27891', '429198']\n",
      "['Nainital', '157344', '226765', '188102', '252551', '115049']\n",
      "['Ramnagar', '134475', '174118', '96500', '93195', '58695']\n",
      "['Kashipur', '337068', '511866', '397530', '477036', '263394']\n",
      "['Bazpur', '165392', '215098', '135056', '165045', '149099']\n",
      "['Jaspur', '125048', '201719', '113680', '136416', '133176']\n",
      "['Rudrapur', '829615', '1011237', '594230', '705552', '395207']\n",
      "['Sitraganj', '350956', '253597', '98720', '110133', '153600']\n",
      "['Khatima', '0', '10670', '35096', '48620', '69924']\n",
      "['Almora', '70603', '98518', '76840', '69590', '68681']\n",
      "['Bageshwar', '45738', '124094', '41760', '50112', '132388']\n",
      "['Ranikhet', '32373', '42237', '12402', '17437', '14475']\n",
      "['Bhikiyasain', '0', '7870', '0', '0', '22965']\n",
      "['Pithoragarh', '122296', '155486', '111834', '134982', '109738']\n",
      "['Dharchula', '53400', '62078', '42325', '63620', '43332']\n",
      "['Champawat', '109122', '185510', '75007', '64508', '31866']\n",
      "<class '_csv.reader'>\n"
     ]
    }
   ],
   "source": [
    "import csv \n",
    "with open('Bill2.csv') as fileobj :\n",
    "    file_data = csv.reader(fileobj)\n",
    "#     file_list = list(file_data)\n",
    "# print(file_list)\n",
    "    for row in file_data:\n",
    "        print(row)\n",
    "    \n",
    "print(type(file_data))"
   ]
  },
  {
   "cell_type": "code",
   "execution_count": 19,
   "id": "2b14dc7a",
   "metadata": {},
   "outputs": [
    {
     "name": "stdout",
     "output_type": "stream",
     "text": [
      "['', 'Dehradun (Rural', 'Mohanpur', 'Vikasnagar', 'Rishikesh', 'Uttarkashi', 'Barkot', 'Doiwala', 'Dehradun (North)', 'Dehradun (South)', 'Dehradun (Central)', 'Srinagar', 'Pauri', 'Tehri', 'Gopeshwar', 'Narayanbagar', 'Gairsain', 'Kotdwar', 'Rudraprayag', 'Roorkee(Urban)', 'Roorkee(Rural)', 'Ramnagar Roorkee', 'Bhagwanpur', 'Haridwar(Urban)', 'Haridwar(Rural)', 'Jwalapur', 'Laksar', 'Hadwani (Urban)', 'Haldwani (Rural)', 'Nainital', 'Ramnagar', 'Kashipur', 'Bazpur', 'Jaspur', 'Rudrapur', 'Sitraganj', 'Khatima', 'Almora', 'Bageshwar', 'Ranikhet', 'Bhikiyasain', 'Pithoragarh', 'Dharchula', 'Champawat']\n"
     ]
    }
   ],
   "source": [
    "import csv \n",
    "with open('Bill2.csv') as fileobj :\n",
    "    file_data = csv.reader(fileobj,skipinitialspace=True)\n",
    "    file_list = list(file_data)\n",
    "    \n",
    "    city_list = [ ]\n",
    "    for row in file_list[1:]:\n",
    "        val = row[0]\n",
    "        city_list.append(val)\n",
    "print(list(city_list))\n"
   ]
  },
  {
   "cell_type": "code",
   "execution_count": 3,
   "id": "2b886893",
   "metadata": {},
   "outputs": [
    {
     "name": "stdout",
     "output_type": "stream",
     "text": [
      "\n",
      "Dehradun (Rural\n",
      "Mohanpur\n",
      "Vikasnagar\n",
      "Rishikesh\n",
      "Uttarkashi\n",
      "Barkot\n",
      "Doiwala\n",
      "Dehradun (North)\n",
      "Dehradun (South)\n",
      "Dehradun (Central)\n",
      "Srinagar\n",
      "Pauri\n",
      "Tehri\n",
      "Gopeshwar\n",
      "Narayanbagar\n",
      "Gairsain\n",
      "Kotdwar\n",
      "Rudraprayag\n",
      "Roorkee(Urban)\n",
      "Roorkee(Rural)\n",
      "Ramnagar Roorkee\n",
      "Bhagwanpur\n",
      "Haridwar(Urban)\n",
      "Haridwar(Rural)\n",
      "Jwalapur\n",
      "Laksar\n",
      "Hadwani (Urban)\n",
      "Haldwani (Rural)\n",
      "Nainital\n",
      "Ramnagar\n",
      "Kashipur\n",
      "Bazpur\n",
      "Jaspur\n",
      "Rudrapur\n",
      "Sitraganj\n",
      "Khatima\n",
      "Almora\n",
      "Bageshwar\n",
      "Ranikhet\n",
      "Bhikiyasain\n",
      "Pithoragarh\n",
      "Dharchula\n",
      "Champawat\n"
     ]
    }
   ],
   "source": [
    "import csv \n",
    "with open('Bill2.csv') as fileobj:\n",
    "    file_dict =  csv.DictReader(fileobj)\n",
    "    \n",
    "    for row in file_dict:\n",
    "        print(row['NameofElecticityDistributionDivision'])"
   ]
  },
  {
   "cell_type": "code",
   "execution_count": 15,
   "id": "dfaaa31c",
   "metadata": {},
   "outputs": [
    {
     "name": "stdout",
     "output_type": "stream",
     "text": [
      "\n",
      "98170\n",
      "28980\n",
      "158230\n",
      "134488\n",
      "92411\n",
      "5100\n",
      "24675\n",
      "407190\n",
      "897846\n",
      "320204\n",
      "43191\n",
      "49258\n",
      "299420\n",
      "65765\n",
      "20720\n",
      "79010\n",
      "55657\n",
      "23010\n",
      "228090\n",
      "161770\n",
      "346454\n",
      "367933\n",
      "18563\n",
      "5051\n",
      "504201\n",
      "188063\n",
      "144749\n",
      "19190\n",
      "188102\n",
      "96500\n",
      "397530\n",
      "135056\n",
      "113680\n",
      "594230\n",
      "98720\n",
      "35096\n",
      "76840\n",
      "41760\n",
      "12402\n",
      "0\n",
      "111834\n",
      "42325\n",
      "75007\n"
     ]
    },
    {
     "data": {
      "text/plain": [
       "<csv.DictReader at 0x4f043139d0>"
      ]
     },
     "execution_count": 15,
     "metadata": {},
     "output_type": "execute_result"
    }
   ],
   "source": [
    "import csv \n",
    "with open('Bill2.csv') as fileobj:\n",
    "    file_dict =  csv.DictReader(fileobj)\n",
    "    \n",
    "    for row in file_dict:\n",
    "        print(row['Electricity2019'])\n"
   ]
  },
  {
   "cell_type": "code",
   "execution_count": 14,
   "id": "61e80e7a",
   "metadata": {},
   "outputs": [
    {
     "data": {
      "text/plain": [
       "{'': '',\n",
       " 'Dehradun (Rural': '225026',\n",
       " 'Mohanpur': '0',\n",
       " 'Vikasnagar': '163319',\n",
       " 'Rishikesh': '188645',\n",
       " 'Uttarkashi': '143297',\n",
       " 'Barkot': '0',\n",
       " 'Doiwala': '30479',\n",
       " 'Dehradun (North)': '501994',\n",
       " 'Dehradun (South)': '754342',\n",
       " 'Dehradun (Central)': '596883',\n",
       " 'Srinagar': '25303',\n",
       " 'Pauri': '78754',\n",
       " 'Tehri': '329276',\n",
       " 'Gopeshwar': '69004',\n",
       " 'Narayanbagar': '82787',\n",
       " 'Gairsain': '0',\n",
       " 'Kotdwar': '88484',\n",
       " 'Rudraprayag': '2351',\n",
       " 'Roorkee(Urban)': '529813',\n",
       " 'Roorkee(Rural)': '154768',\n",
       " 'Ramnagar Roorkee': '23342',\n",
       " 'Bhagwanpur': '5506',\n",
       " 'Haridwar(Urban)': '643329',\n",
       " 'Haridwar(Rural)': '34258',\n",
       " 'Jwalapur': '0',\n",
       " 'Laksar': '33361',\n",
       " 'Hadwani (Urban)': '151963',\n",
       " 'Haldwani (Rural)': '36808',\n",
       " 'Nainital': '157344',\n",
       " 'Ramnagar': '134475',\n",
       " 'Kashipur': '337068',\n",
       " 'Bazpur': '165392',\n",
       " 'Jaspur': '125048',\n",
       " 'Rudrapur': '829615',\n",
       " 'Sitraganj': '350956',\n",
       " 'Khatima': '0',\n",
       " 'Almora': '70603',\n",
       " 'Bageshwar': '45738',\n",
       " 'Ranikhet': '32373',\n",
       " 'Bhikiyasain': '0',\n",
       " 'Pithoragarh': '122296',\n",
       " 'Dharchula': '53400',\n",
       " 'Champawat': '109122'}"
      ]
     },
     "execution_count": 14,
     "metadata": {},
     "output_type": "execute_result"
    }
   ],
   "source": [
    "import csv \n",
    "with open('Bill2.csv') as fileobj:\n",
    "    file_dict =  csv.DictReader(fileobj)\n",
    "    file_list1 = list(file_dict)\n",
    "    \n",
    "city ={}\n",
    "for row in file_list1 :\n",
    "    key = row['NameofElecticityDistributionDivision']\n",
    "    value = row['electricity2017']\n",
    "    if key in city :\n",
    "        city[key] += value\n",
    "    else:\n",
    "        city[key] = value \n",
    "            \n",
    "city\n",
    "            \n",
    "            "
   ]
  },
  {
   "cell_type": "code",
   "execution_count": 1,
   "id": "3ca8aa1e",
   "metadata": {},
   "outputs": [],
   "source": [
    "import numpy as np "
   ]
  },
  {
   "cell_type": "code",
   "execution_count": 2,
   "id": "5cedd9f6",
   "metadata": {},
   "outputs": [],
   "source": [
    "my_list = [1,2,3,4,5]"
   ]
  },
  {
   "cell_type": "code",
   "execution_count": 3,
   "id": "54e23b22",
   "metadata": {},
   "outputs": [],
   "source": [
    "arr = np.array(my_list)"
   ]
  },
  {
   "cell_type": "code",
   "execution_count": 5,
   "id": "17feeb78",
   "metadata": {},
   "outputs": [
    {
     "data": {
      "text/plain": [
       "numpy.ndarray"
      ]
     },
     "execution_count": 5,
     "metadata": {},
     "output_type": "execute_result"
    }
   ],
   "source": [
    "type(arr)\n",
    "# arr"
   ]
  },
  {
   "cell_type": "code",
   "execution_count": 6,
   "id": "af81d212",
   "metadata": {},
   "outputs": [
    {
     "data": {
      "text/plain": [
       "array([1, 2, 3, 4, 5])"
      ]
     },
     "execution_count": 6,
     "metadata": {},
     "output_type": "execute_result"
    }
   ],
   "source": [
    "arr"
   ]
  },
  {
   "cell_type": "code",
   "execution_count": 8,
   "id": "bf45105d",
   "metadata": {},
   "outputs": [
    {
     "data": {
      "text/plain": [
       "(5,)"
      ]
     },
     "execution_count": 8,
     "metadata": {},
     "output_type": "execute_result"
    }
   ],
   "source": [
    "arr.shape"
   ]
  },
  {
   "cell_type": "code",
   "execution_count": 9,
   "id": "b3e80603",
   "metadata": {},
   "outputs": [],
   "source": [
    "my_list1 = [1,2,3,4,5]\n",
    "my_list2 = [1,2,3,4,5]\n",
    "my_list3 = [1,2,3,4,5]"
   ]
  },
  {
   "cell_type": "code",
   "execution_count": 13,
   "id": "ed4dacbd",
   "metadata": {},
   "outputs": [
    {
     "data": {
      "text/plain": [
       "array([[1, 2, 3, 4, 5],\n",
       "       [1, 2, 3, 4, 5],\n",
       "       [1, 2, 3, 4, 5]])"
      ]
     },
     "execution_count": 13,
     "metadata": {},
     "output_type": "execute_result"
    }
   ],
   "source": [
    "array = np.array([my_list1,my_list2,my_list3])\n",
    "array"
   ]
  },
  {
   "cell_type": "code",
   "execution_count": 14,
   "id": "c64fd486",
   "metadata": {},
   "outputs": [
    {
     "data": {
      "text/plain": [
       "numpy.ndarray"
      ]
     },
     "execution_count": 14,
     "metadata": {},
     "output_type": "execute_result"
    }
   ],
   "source": [
    "type(array)"
   ]
  },
  {
   "cell_type": "code",
   "execution_count": 15,
   "id": "618fe125",
   "metadata": {},
   "outputs": [
    {
     "data": {
      "text/plain": [
       "(3, 5)"
      ]
     },
     "execution_count": 15,
     "metadata": {},
     "output_type": "execute_result"
    }
   ],
   "source": [
    "array.shape"
   ]
  },
  {
   "cell_type": "code",
   "execution_count": null,
   "id": "148caa9f",
   "metadata": {},
   "outputs": [],
   "source": []
  }
 ],
 "metadata": {
  "kernelspec": {
   "display_name": "Python 3 (ipykernel)",
   "language": "python",
   "name": "python3"
  },
  "language_info": {
   "codemirror_mode": {
    "name": "ipython",
    "version": 3
   },
   "file_extension": ".py",
   "mimetype": "text/x-python",
   "name": "python",
   "nbconvert_exporter": "python",
   "pygments_lexer": "ipython3",
   "version": "3.9.7"
  }
 },
 "nbformat": 4,
 "nbformat_minor": 5
}
