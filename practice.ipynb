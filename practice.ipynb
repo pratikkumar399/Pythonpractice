{
 "cells": [
  {
   "cell_type": "code",
   "execution_count": null,
   "metadata": {},
   "outputs": [],
   "source": [
    "radius = int(input(\"Enter the radius of circle\"))\n",
    "area_of_circle = 3.14 * radius*radius\n",
    "print(area_of_circle)"
   ]
  },
  {
   "cell_type": "code",
   "execution_count": null,
   "metadata": {},
   "outputs": [
    {
     "data": {
      "text/plain": [
       "270.0"
      ]
     },
     "execution_count": 2,
     "metadata": {},
     "output_type": "execute_result"
    }
   ],
   "source": [
    "base = float(input('Enter the base of the triangle'))\n",
    "height = float(input('Enter the height of the triangle'))\n",
    "area_of_triangle = 0.5*base*height\n",
    "area_of_triangle"
   ]
  },
  {
   "cell_type": "code",
   "execution_count": null,
   "metadata": {},
   "outputs": [],
   "source": [
    "sub1 =float (input (\"Enter marks\"))\n",
    "sub2 =float (input (\"Enter marks\"))\n",
    "sub3 =float (input (\"Enter marks\"))\n",
    "sub4 =float (input (\"Enter marks\"))\n",
    "sub5 =float (input (\"Enter marks\"))\n",
    "\n",
    "total = sub1 + sub2 + sub3 + sub4 + sub5\n",
    "average = total/5\n",
    "percentage = (total/500)*100\n",
    "\n",
    "print(total, percentage,average)"
   ]
  },
  {
   "cell_type": "code",
   "execution_count": null,
   "metadata": {},
   "outputs": [
    {
     "name": "stdout",
     "output_type": "stream",
     "text": [
      "48 45\n"
     ]
    }
   ],
   "source": [
    "x = int(input(\"enter the number\"))\n",
    "y = int(input(\"enter the number\"))\n",
    "x,y =y,x\n",
    "print(x,y)"
   ]
  },
  {
   "cell_type": "code",
   "execution_count": null,
   "metadata": {},
   "outputs": [
    {
     "name": "stdout",
     "output_type": "stream",
     "text": [
      "The ascii value of the character S is 83\n"
     ]
    }
   ],
   "source": [
    "character = input('Enter the character')\n",
    "print(f'The ascii value of the character {character} is' , ord(character))"
   ]
  },
  {
   "cell_type": "code",
   "execution_count": null,
   "metadata": {},
   "outputs": [
    {
     "name": "stdout",
     "output_type": "stream",
     "text": [
      "225\n"
     ]
    }
   ],
   "source": [
    "z = int(input(\"Enter the number of first natural numbers\"))\n",
    "\n",
    "cube = 0\n",
    "for i in range(1, z+1) : \n",
    "    cube += i*i*i\n",
    "\n",
    "print(cube)"
   ]
  },
  {
   "cell_type": "code",
   "execution_count": null,
   "metadata": {},
   "outputs": [
    {
     "name": "stdout",
     "output_type": "stream",
     "text": [
      "The factorial of 6 is 720\n"
     ]
    }
   ],
   "source": [
    "z = int(input(\"Enter the number\"))\n",
    "fact = 1\n",
    "\n",
    "if z < 0:\n",
    "   print(\"enter a valid number\")\n",
    "elif z == 0:\n",
    "   print(f\"The factorial of {z} is {fact}\")\n",
    "else :\n",
    "    for i in range(1 , z+1):\n",
    "        fact = fact * i \n",
    "    print(f\"The factorial of {z} is {fact}\")\n",
    "    \n"
   ]
  },
  {
   "cell_type": "code",
   "execution_count": null,
   "metadata": {},
   "outputs": [
    {
     "name": "stdout",
     "output_type": "stream",
     "text": [
      "452.15999999999997\n"
     ]
    }
   ],
   "source": [
    "radius = int(input(\"Enter the radius of circle\"))\n",
    "area_of_circle = 3.14 * radius*radius\n",
    "print(area_of_circle)"
   ]
  },
  {
   "cell_type": "code",
   "execution_count": null,
   "metadata": {},
   "outputs": [
    {
     "name": "stdout",
     "output_type": "stream",
     "text": [
      "Pratik 20BCS2820\n"
     ]
    }
   ],
   "source": [
    "def name_uid(name, uid):\n",
    "   \n",
    "    print(name,uid)\n",
    "\n",
    "name_uid(\"Pratik\",\"20BCS2820\")"
   ]
  },
  {
   "cell_type": "code",
   "execution_count": null,
   "metadata": {},
   "outputs": [
    {
     "name": "stdout",
     "output_type": "stream",
     "text": [
      "even\n"
     ]
    }
   ],
   "source": [
    "def even_odd(number):\n",
    "    if(number% 2 == 0):\n",
    "        print(\"even\")\n",
    "    else:\n",
    "        print(\"odd\")\n",
    "\n",
    "even_odd(12)"
   ]
  },
  {
   "cell_type": "code",
   "execution_count": null,
   "metadata": {},
   "outputs": [
    {
     "name": "stdout",
     "output_type": "stream",
     "text": [
      "20 is greater\n"
     ]
    }
   ],
   "source": [
    "def number(a,b,c):\n",
    "    if (a>=b) and (a>=c) :\n",
    "        print(a, \"is greater\") \n",
    "    elif (b>=a) and (b>=c) :\n",
    "        print(b, \"is greater\") \n",
    "    else :\n",
    "        print(c, \"is greater\")\n",
    "\n",
    "a = input(\"Enter num1 : \") \n",
    "b = input(\"Enter num2 : \") \n",
    "c = input(\"Enter num3 : \") \n",
    "number(a,b,c)"
   ]
  },
  {
   "cell_type": "code",
   "execution_count": null,
   "metadata": {},
   "outputs": [
    {
     "name": "stdout",
     "output_type": "stream",
     "text": [
      "The factorial of 10 is 3628800\n"
     ]
    }
   ],
   "source": [
    "def factorial(z):\n",
    "    fact = 1\n",
    "\n",
    "    if z < 0:\n",
    "        print(\"enter a valid number\")\n",
    "    elif z == 0:\n",
    "        print(f\"The factorial of {z} is {fact}\")\n",
    "    else :\n",
    "        for i in range(1 , z+1):\n",
    "            fact = fact * i \n",
    "        print(f\"The factorial of {z} is {fact}\")\n",
    "    \n",
    "z = int(input(\"Enter the number\"))\n",
    "factorial(z)\n",
    "    "
   ]
  },
  {
   "cell_type": "code",
   "execution_count": null,
   "metadata": {},
   "outputs": [
    {
     "name": "stdout",
     "output_type": "stream",
     "text": [
      "15\n"
     ]
    }
   ],
   "source": [
    "def add(a,b):\n",
    "    return a+b\n",
    "def calculate(a,b,add) :\n",
    "    return add(a,b)\n",
    "\n",
    "result = calculate(10,5,add)\n",
    "print(result)\n"
   ]
  },
  {
   "cell_type": "code",
   "execution_count": 5,
   "metadata": {},
   "outputs": [
    {
     "data": {
      "text/plain": [
       "'hellohello2'"
      ]
     },
     "execution_count": 5,
     "metadata": {},
     "output_type": "execute_result"
    }
   ],
   "source": [
    "str = 'hello' \n",
    "str1 = 'hello2'\n",
    "str3 = str.__add__(str1)\n",
    "str3"
   ]
  },
  {
   "cell_type": "code",
   "execution_count": 6,
   "metadata": {},
   "outputs": [
    {
     "name": "stdout",
     "output_type": "stream",
     "text": [
      "Welcome   # 111#924.66\n"
     ]
    }
   ],
   "source": [
    "print(format(\"Welcome\", \"10s\"), end = '#')\n",
    "print(format(111, \"4d\"), end = '#')\n",
    "print(format(924.656, \"3.2f\"))"
   ]
  },
  {
   "cell_type": "code",
   "execution_count": 7,
   "metadata": {},
   "outputs": [
    {
     "ename": "TypeError",
     "evalue": "'str' object does not support item assignment",
     "output_type": "error",
     "traceback": [
      "\u001b[1;31m---------------------------------------------------------------------------\u001b[0m",
      "\u001b[1;31mTypeError\u001b[0m                                 Traceback (most recent call last)",
      "\u001b[1;32m~\\AppData\\Local\\Temp/ipykernel_7796/1354837240.py\u001b[0m in \u001b[0;36m<module>\u001b[1;34m\u001b[0m\n\u001b[0;32m      1\u001b[0m \u001b[0mexample\u001b[0m \u001b[1;33m=\u001b[0m \u001b[1;34m\"snow world\"\u001b[0m\u001b[1;33m\u001b[0m\u001b[1;33m\u001b[0m\u001b[0m\n\u001b[1;32m----> 2\u001b[1;33m \u001b[0mexample\u001b[0m\u001b[1;33m[\u001b[0m\u001b[1;36m3\u001b[0m\u001b[1;33m]\u001b[0m \u001b[1;33m=\u001b[0m \u001b[1;34m's'\u001b[0m\u001b[1;33m\u001b[0m\u001b[1;33m\u001b[0m\u001b[0m\n\u001b[0m\u001b[0;32m      3\u001b[0m \u001b[0mprint\u001b[0m\u001b[1;33m(\u001b[0m\u001b[0mexample\u001b[0m\u001b[1;33m)\u001b[0m\u001b[1;33m\u001b[0m\u001b[1;33m\u001b[0m\u001b[0m\n",
      "\u001b[1;31mTypeError\u001b[0m: 'str' object does not support item assignment"
     ]
    }
   ],
   "source": [
    "example = \"snow world\"\n",
    "example[3] = 's'\n",
    "print(example) "
   ]
  },
  {
   "cell_type": "code",
   "execution_count": 10,
   "metadata": {},
   "outputs": [
    {
     "name": "stdout",
     "output_type": "stream",
     "text": [
      "amaama string is symmertical\n",
      "amaama string is palindrome\n"
     ]
    }
   ],
   "source": [
    "string = 'pratik'\n",
    "half = int(len(string) / 2)\n",
    "\n",
    "if len(string) % 2 == 0: # even\n",
    "\tfirst_str = string[:half]\n",
    "\tsecond_str = string[half:]\n",
    "else: # odd\n",
    "\tfirst_str = string[:half]\n",
    "\tsecond_str = string[half+1:]\n",
    "\n",
    "# symmetric\n",
    "if first_str == second_str:\n",
    "\tprint(string, 'string is symmertical')\n",
    "else:\n",
    "\tprint(string, 'string is not symmertical')\n",
    "\n",
    "# palindrome\n",
    "if first_str == second_str[::-1]: # ''.join(reversed(second_str)) [slower]\n",
    "\tprint(string, 'string is palindrome')\n",
    "else:\n",
    "\tprint(string, 'string is not palindrome')\n"
   ]
  },
  {
   "cell_type": "code",
   "execution_count": 12,
   "metadata": {},
   "outputs": [
    {
     "name": "stdout",
     "output_type": "stream",
     "text": [
      " pratik\n"
     ]
    }
   ],
   "source": [
    "def notcommon(a,b):\n",
    "\tlist_a = a.split()\n",
    "\tlist_b = b.split()\n",
    "\tuc = ''\n",
    "\tfor i in list_a:\n",
    "\t\tif i not in list_b:\n",
    "\t\t\tuc = uc+\" \"+i\n",
    "\tfor j in list_b:\n",
    "\t\tif j not in list_a:\n",
    "\t\t\tuc = uc+\" \"+j\n",
    "\n",
    "\treturn uc\n",
    "\n",
    "# Driver code\n",
    "a = \"pratik rai\"\n",
    "b = \"rai\"\n",
    "print(notcommon(a,b))\n"
   ]
  },
  {
   "cell_type": "code",
   "execution_count": 13,
   "metadata": {},
   "outputs": [
    {
     "name": "stdout",
     "output_type": "stream",
     "text": [
      "ab\n",
      "abcing\n",
      "stringly\n"
     ]
    }
   ],
   "source": [
    "def add_string(str1):\n",
    "  length = len(str1)\n",
    "\n",
    "  if length > 2:\n",
    "    if str1[-3:] == 'ing':\n",
    "      str1 += 'ly'\n",
    "    else:\n",
    "      str1 += 'ing'\n",
    "\n",
    "  return str1\n",
    "print(add_string('ab'))\n",
    "print(add_string('abc'))\n",
    "print(add_string('string'))\n"
   ]
  },
  {
   "cell_type": "code",
   "execution_count": 1,
   "metadata": {},
   "outputs": [
    {
     "name": "stdout",
     "output_type": "stream",
     "text": [
      "pratik   k\n"
     ]
    }
   ],
   "source": [
    "name,char = input('enter comma seprated values').split(',')\n",
    "print(name,' ' , char)"
   ]
  },
  {
   "cell_type": "code",
   "execution_count": 1,
   "metadata": {},
   "outputs": [
    {
     "name": "stdout",
     "output_type": "stream",
     "text": [
      "1\n"
     ]
    }
   ],
   "source": [
    "s = \"hello\"\n",
    "y = \"ello\"\n",
    "\n",
    "print(s.find(y))\n"
   ]
  },
  {
   "cell_type": "code",
   "execution_count": 24,
   "metadata": {},
   "outputs": [
    {
     "name": "stdout",
     "output_type": "stream",
     "text": [
      "iaRkitarP\n"
     ]
    }
   ],
   "source": [
    "s = \"PratikRai\"\n",
    "d = s[::-1]\n",
    "print(d)"
   ]
  },
  {
   "cell_type": "code",
   "execution_count": 23,
   "metadata": {},
   "outputs": [
    {
     "name": "stdout",
     "output_type": "stream",
     "text": [
      "[1, 2, 3, 4, 5]\n",
      "[5, 4, 3, 2, 1]\n"
     ]
    }
   ],
   "source": [
    "list = [1,2,3,4,5]\n",
    "print(list)\n",
    "list.reverse()\n",
    "print(list)"
   ]
  },
  {
   "cell_type": "code",
   "execution_count": 30,
   "metadata": {},
   "outputs": [
    {
     "name": "stdout",
     "output_type": "stream",
     "text": [
      "[1, 2, 3, 4, 5, 2, 4, 5, 5, 6, 6, 6, 7]\n",
      "[1, 2, 3, 4, 5, 2, 4, 5, 5, 6, 6, 6, 7]\n",
      "[1, 2, 3, 4, 5, 2, 4, 5, 5, 6, 6, 6, 7]\n"
     ]
    }
   ],
   "source": [
    "# First method\n",
    "a1 = [1,2,3,4,5,2,4,5,5,6,6,6,7]\n",
    "a2 = a1.copy()\n",
    "a3 = a1 \n",
    "a4 = a1[0:len(a1)]\n",
    "print(a2)\n",
    "print(a3)\n",
    "print(a4)\n",
    "\n"
   ]
  },
  {
   "cell_type": "code",
   "execution_count": 38,
   "metadata": {},
   "outputs": [
    {
     "name": "stdout",
     "output_type": "stream",
     "text": [
      "Friend\n",
      "None\n"
     ]
    }
   ],
   "source": [
    "updateDict = {\n",
    "    \"Lovish\": \"Friend\",\n",
    "    \"Divya\": \"Friend\",\n",
    "    \"Shubham\": \"Friend\",\n",
    "    \"pratik\": \"A Coder\"\n",
    "}\n",
    "print(updateDict.get(\"Lovish\"))\n",
    "print(updateDict.get(\"A\"))"
   ]
  },
  {
   "cell_type": "code",
   "execution_count": 52,
   "metadata": {},
   "outputs": [
    {
     "name": "stdout",
     "output_type": "stream",
     "text": [
      "88\n"
     ]
    }
   ],
   "source": [
    "dict  = {'x' : 25 , 'y' :  18 , 'z' : 45}\n",
    "print(sum(dict.values()))"
   ]
  },
  {
   "cell_type": "code",
   "execution_count": 68,
   "metadata": {},
   "outputs": [
    {
     "name": "stdout",
     "output_type": "stream",
     "text": [
      "((1, 'one'), (2, 'two'), (3, 'three'))\n"
     ]
    }
   ],
   "source": [
    "l1 = [(1, 'one'), (2, 'two'), (3, 'three')]\n",
    "print(tuple(l1))\n",
    "\n"
   ]
  },
  {
   "cell_type": "code",
   "execution_count": 83,
   "metadata": {},
   "outputs": [
    {
     "data": {
      "text/plain": [
       "[('256', 5), ('452', 10), ('135', 15), ('100', 20)]"
      ]
     },
     "execution_count": 83,
     "metadata": {},
     "output_type": "execute_result"
    }
   ],
   "source": [
    "list = [('452' , 10) ,('256' ,5 ) , ('100' ,20) , ('135',15)]\n",
    "sorted(list , key =lambda value : value[1] )\n"
   ]
  },
  {
   "cell_type": "code",
   "execution_count": 77,
   "metadata": {},
   "outputs": [
    {
     "name": "stdout",
     "output_type": "stream",
     "text": [
      "[0, 1, 1, 2, 3, 5, 8, 13]\n"
     ]
    }
   ],
   "source": [
    "a = 0 \n",
    "b =1 \n",
    "\n",
    "n= 8 \n",
    "i = 2\n",
    "\n",
    "ans = [a,b]\n",
    "\n",
    "while i < n :\n",
    "    fibonaci = a+ b\n",
    "    ans.append(fibonaci)\n",
    "    a = b \n",
    "    b =  fibonaci\n",
    "    i = i+1 \n",
    "\n",
    "print(ans)"
   ]
  },
  {
   "cell_type": "code",
   "execution_count": 4,
   "metadata": {},
   "outputs": [
    {
     "name": "stdout",
     "output_type": "stream",
     "text": [
      "[(1, 1), (2, 8), (4, 64)]\n"
     ]
    }
   ],
   "source": [
    "list = [1,2,4] \n",
    "\n",
    "tuples = []\n",
    "\n",
    "for i in list :\n",
    "    tuplelist =  (i , (i*i*i))\n",
    "    tuples.append(tuplelist)\n",
    "\n",
    "print(tuples)\n"
   ]
  },
  {
   "cell_type": "code",
   "execution_count": 6,
   "metadata": {},
   "outputs": [
    {
     "name": "stdout",
     "output_type": "stream",
     "text": [
      "{1, 2, 3, 4, 5}\n"
     ]
    }
   ],
   "source": [
    "list =  [1,2,3,4,5,5,4,5]\n",
    "\n",
    "dele_items =  set()\n",
    "\n",
    "for i in list :\n",
    "    dele_items.add(i)\n",
    "\n",
    "print(dele_items)\n"
   ]
  },
  {
   "cell_type": "code",
   "execution_count": 7,
   "metadata": {},
   "outputs": [
    {
     "name": "stdout",
     "output_type": "stream",
     "text": [
      "[2, 6] [1, 3, 5]\n"
     ]
    }
   ],
   "source": [
    "list = [1,2,3,5,6]\n",
    "\n",
    "even = []\n",
    "odd =[]\n",
    "\n",
    "for i in list :\n",
    "    if(i % 2 == 0):\n",
    "        even.append(i)\n",
    "    else:\n",
    "        odd.append(i)\n",
    "\n",
    "print(even,odd)"
   ]
  },
  {
   "cell_type": "code",
   "execution_count": 16,
   "metadata": {},
   "outputs": [
    {
     "name": "stdout",
     "output_type": "stream",
     "text": [
      "Total number of uppercase letters are  1 , lowercase letters are  4 , and numbers are  3 and special characters are  3 \n"
     ]
    }
   ],
   "source": [
    "string = \"Hello 123$\"\n",
    "\n",
    "uppercase = 0\n",
    "lowercase = 0\n",
    "special = 0\n",
    "numeric = 0 \n",
    "i =0\n",
    "\n",
    "\n",
    "for i in range(len(string)) :\n",
    "    if string[i] >= \"A\" and string[i] <= \"Z\" :\n",
    "        uppercase = uppercase+1 \n",
    "    if string[i] >=\"a\" and string[i] <= \"z\" :\n",
    "        lowercase = lowercase+1\n",
    "    elif string[i] >= \"1\" and string[i] <= \"9\":\n",
    "        numeric =numeric+1 \n",
    "    else :\n",
    "        special = special +1\n",
    "\n",
    "print(f\"Total number of uppercase letters are  {uppercase} , lowercase letters are  {lowercase} , and numbers are  {numeric} and special characters are  {special} \")"
   ]
  },
  {
   "cell_type": "code",
   "execution_count": 23,
   "metadata": {},
   "outputs": [
    {
     "name": "stdout",
     "output_type": "stream",
     "text": [
      "[[1, 4, 9], [1, 4, 9], [1, 4, 9]]\n"
     ]
    }
   ],
   "source": [
    "import numpy as np\n",
    "\n",
    "mylist = [1,2,3]\n",
    "mylist1 = [1,2,3]\n",
    "mylist2 = [1,2,3]\n",
    "arr= np.array([mylist,mylist1,mylist2])\n",
    "\n",
    "mylist3 = [1,2,3]\n",
    "mylist4 = [1,2,3]\n",
    "mylist5 = [1,2,3]\n",
    "arr1 = np.array([mylist3,mylist4,mylist5])\n",
    "\n",
    "ans = [[0,0,0] ,[0,0,0],[0,0,0]]\n",
    "\n",
    "for i in range(len(arr)) :\n",
    "    for j in range(len(arr1)) :\n",
    "        ans[i][j] = arr[i][j]*arr1[i][j]\n",
    "\n",
    "print(ans)"
   ]
  },
  {
   "cell_type": "code",
   "execution_count": null,
   "metadata": {},
   "outputs": [],
   "source": [
    "def eval_loop(condition) :\n",
    "       ans= eval(condition)\n",
    "       return ans \n",
    "\n",
    "\n",
    "# string = \"done\"\n",
    "condition = (input(\"ENter the string\"))\n",
    "while(condition) :\n",
    "    if(condition =='done'):\n",
    "        break\n",
    "    else:\n",
    "        eval_loop(condition)\n",
    "\n",
    "\n"
   ]
  },
  {
   "cell_type": "markdown",
   "metadata": {},
   "source": [
    "## Python programs\n",
    "> Write a program to implement multilevel inheritenece in python\n",
    "\n",
    "> WRITE A program to overlod various types of operators in \n",
    "\n",
    "\n",
    "> How super keyword can be used in python \n",
    "\n",
    "> Is there ant way to perform method overloading in python ?"
   ]
  },
  {
   "cell_type": "code",
   "execution_count": null,
   "metadata": {},
   "outputs": [],
   "source": [
    "class Person:\n",
    "    country = \"India\"\n",
    "    def takeBreath(self):\n",
    "        print(\"I am breathing...\")\n",
    "\n",
    "class Employee(Person):\n",
    "    company = \"Honda\"\n",
    "\n",
    "    def getSalary(self):\n",
    "        print(f\"Salary is {self.salary}\")\n",
    "    \n",
    "    def takeBreath(self):\n",
    "        print(\"I am an Employee so I am luckily breathing..\")\n",
    "\n",
    "class Programmer(Employee):\n",
    "    company = \"Fiverr\"\n",
    "    \n",
    "    def getSalary(self):\n",
    "        print(f\"No salary to programmers\")\n",
    "    \n",
    "    def takeBreath(self):\n",
    "        print(\"I am a Progarmmer so I am breathing++..\")\n",
    "\n",
    "p = Person()\n",
    "p.takeBreath()\n",
    "# print(p.company) # throws an error\n",
    "\n",
    "e = Employee()\n",
    "e.takeBreath()\n",
    "print(e.company)\n",
    "\n",
    "pr = Programmer()\n",
    "pr.takeBreath()\n",
    "print(pr.company)\n",
    "print(pr.country)\n"
   ]
  },
  {
   "cell_type": "code",
   "execution_count": null,
   "metadata": {},
   "outputs": [],
   "source": [
    "class Number:\n",
    "    def __init__(self, num):\n",
    "        self.num = num\n",
    "\n",
    "    def __add__(self, num2):\n",
    "        print(\"Lets add\")\n",
    "        return self.num + num2.num\n",
    "\n",
    "    def __mul__(self, num2):\n",
    "        print(\"Lets multiply\")\n",
    "        return self.num * num2.num\n",
    "\n",
    "n1 = Number(4)\n",
    "n2 = Number(6)\n",
    "sum = n1 + n2\n",
    "mul = n1 * n2\n",
    "print(sum)\n",
    "print(mul)"
   ]
  },
  {
   "cell_type": "code",
   "execution_count": 25,
   "metadata": {},
   "outputs": [
    {
     "name": "stdout",
     "output_type": "stream",
     "text": [
      "Initializing Person...\n",
      "\n",
      "I am breathing...\n",
      "Initializing Person...\n",
      "\n",
      "Initializing Employee...\n",
      "\n",
      "I am breathing...\n",
      "I am an Employee so I am luckily breathing..\n",
      "Initializing Programmer...\n",
      "\n"
     ]
    }
   ],
   "source": [
    "class Person:\n",
    "    country = \"India\"\n",
    "\n",
    "    def __init__(self):\n",
    "        print(\"Initializing Person...\\n\")\n",
    "\n",
    "    def takeBreath(self):\n",
    "        print(\"I am breathing...\")\n",
    "\n",
    "class Employee(Person):\n",
    "    company = \"Honda\"\n",
    "\n",
    "    def __init__(self):\n",
    "        super().__init__()\n",
    "        print(\"Initializing Employee...\\n\")\n",
    "\n",
    "    def getSalary(self):\n",
    "        print(f\"Salary is {self.salary}\")\n",
    "    \n",
    "    def takeBreath(self):\n",
    "        super().takeBreath()\n",
    "        print(\"I am an Employee so I am luckily breathing..\")\n",
    "\n",
    "class Programmer(Employee):\n",
    "    company = \"Fiverr\"\n",
    "\n",
    "    def __init__(self):\n",
    "        # super().__init__()\n",
    "        print(\"Initializing Programmer...\\n\")\n",
    "\n",
    "    def getSalary(self):\n",
    "        print(f\"No salary to programmers\")\n",
    "    \n",
    "    def takeBreath(self):\n",
    "        super().takeBreath()\n",
    "        print(\"I am a Progarmmer so I am breathing++..\")\n",
    "\n",
    "p = Person()\n",
    "p.takeBreath() \n",
    "\n",
    "e = Employee()\n",
    "e.takeBreath() \n",
    "\n",
    "pr = Programmer()\n",
    "# pr.takeBreath() \n"
   ]
  },
  {
   "cell_type": "code",
   "execution_count": 3,
   "metadata": {},
   "outputs": [
    {
     "name": "stdout",
     "output_type": "stream",
     "text": [
      "3\n",
      "1\n",
      "6\n"
     ]
    }
   ],
   "source": [
    "class method_overloading :\n",
    "    def hello(self ,a , b = None ,c  = None) :\n",
    "        if c is not None :\n",
    "            print(a+b+c)\n",
    "        elif b is not None :\n",
    "            print(a+b)\n",
    "        else:\n",
    "            print(a)\n",
    "\n",
    "obj =  method_overloading()\n",
    "\n",
    "obj.hello(1,2)\n",
    "obj.hello(1)\n",
    "obj.hello(1,2,3)"
   ]
  },
  {
   "cell_type": "markdown",
   "metadata": {},
   "source": [
    "1. Write a program to perform method overriding in python\n",
    "2. Write a program to implement hirerchical inheritence and multiple inheritence \n",
    "3. Polymorphism \n",
    "4. Self usage in python\n"
   ]
  },
  {
   "cell_type": "code",
   "execution_count": 32,
   "metadata": {},
   "outputs": [
    {
     "data": {
      "text/plain": [
       "24"
      ]
     },
     "execution_count": 32,
     "metadata": {},
     "output_type": "execute_result"
    }
   ],
   "source": [
    "#run time polymorphism\n",
    "\n",
    "class hello:\n",
    "    def hello_world(self,a,b,c) :\n",
    "        return a+b+c\n",
    "\n",
    "class method_overriding(hello) :\n",
    "    def hello_world(self,a,b,c) :\n",
    "        super().hello_world(a,b,c)\n",
    "        return a*b*c \n",
    "     \n",
    "    \n",
    "\n",
    "obj1 =  method_overriding()\n",
    "obj1.hello_world(2,3,4)\n",
    "\n",
    "\n"
   ]
  },
  {
   "cell_type": "code",
   "execution_count": 12,
   "metadata": {},
   "outputs": [
    {
     "name": "stdout",
     "output_type": "stream",
     "text": [
      "3\n",
      "1\n",
      "6\n"
     ]
    }
   ],
   "source": [
    "#compile time polymorphism\n",
    "\n",
    "class method_overloading :\n",
    "    def hello(self ,a , b = None ,c  = None) :\n",
    "        if c is not None :\n",
    "            print(a+b+c)\n",
    "        elif b is not None :\n",
    "            print(a+b)\n",
    "        else:\n",
    "            print(a)\n",
    "\n",
    "obj =  method_overloading()\n",
    "\n",
    "obj.hello(1,2)\n",
    "obj.hello(1)\n",
    "obj.hello(1,2,3)"
   ]
  },
  {
   "cell_type": "code",
   "execution_count": null,
   "metadata": {},
   "outputs": [],
   "source": [
    "class Employee:\n",
    "    company = \"Google\"\n",
    "    def getSalary(self):\n",
    "        print(f\"Salary for this employee working in {self.company} is {self.salary}\")\n",
    "\n",
    "harry = Employee()\n",
    "harry.salary = 100000\n",
    "harry.getSalary() # Employee.getSalary(harry)"
   ]
  },
  {
   "cell_type": "code",
   "execution_count": null,
   "metadata": {},
   "outputs": [],
   "source": [
    "class Freelancer:\n",
    "    company = \"Fiverr\"\n",
    "    level = 0\n",
    "\n",
    "    def upgradeLevel(self):\n",
    "        self.level = self.level + 1\n",
    "\n",
    "class Employee:\n",
    "    company = \"Visa\"\n",
    "    eCode = 120\n",
    "\n",
    "\n",
    "class Programmer(Freelancer, Employee):\n",
    "    name = \"Rohit\"\n",
    "\n",
    "p = Programmer()\n",
    "p.upgradeLevel()\n",
    "print(p.company)"
   ]
  },
  {
   "cell_type": "code",
   "execution_count": 33,
   "metadata": {},
   "outputs": [
    {
     "name": "stdout",
     "output_type": "stream",
     "text": [
      "I am breathing...\n",
      "I am an Employee so I am luckily breathing..\n",
      "Honda\n",
      "I am a Progarmmer so I am breathing++..\n",
      "Fiverr\n",
      "India\n"
     ]
    }
   ],
   "source": [
    "#hierarchical inheritence \n",
    "class Person:\n",
    "    country = \"India\"\n",
    "    def takeBreath(self):\n",
    "        print(\"I am breathing...\")\n",
    "\n",
    "class Employee(Person):\n",
    "    company = \"Honda\"\n",
    "\n",
    "    def getSalary(self):\n",
    "        print(f\"Salary is {self.salary}\")\n",
    "    \n",
    "    def takeBreath(self):\n",
    "        print(\"I am an Employee so I am luckily breathing..\")\n",
    "\n",
    "class Programmer(Person):\n",
    "    company = \"Fiverr\"\n",
    "    \n",
    "    def getSalary(self):\n",
    "        print(f\"No salary to programmers\")  \n",
    "    \n",
    "    def takeBreath(self):\n",
    "        print(\"I am a Progarmmer so I am breathing++..\")\n",
    "\n",
    "p = Person()\n",
    "p.takeBreath()\n",
    "# print(p.company) # throws an error\n",
    "\n",
    "e = Employee()\n",
    "e.takeBreath()\n",
    "print(e.company)\n",
    "\n",
    "pr = Programmer()\n",
    "pr.takeBreath()\n",
    "print(pr.company)\n",
    "print(pr.country)\n",
    "\n"
   ]
  },
  {
   "cell_type": "code",
   "execution_count": 19,
   "metadata": {},
   "outputs": [
    {
     "data": {
      "text/plain": [
       "0    Mangalica\n",
       "1     Tamworth\n",
       "Name: pigs, dtype: object"
      ]
     },
     "execution_count": 19,
     "metadata": {},
     "output_type": "execute_result"
    }
   ],
   "source": [
    "import pandas as pd\n",
    "\n",
    "data = { 'cows': [ 'Aberdeen', 'Brangus'],\n",
    "         'pigs': [ 'Mangalica', 'Tamworth']}\n",
    "\n",
    "df = pd.DataFrame(data)\n",
    "df.iloc[:, 1]"
   ]
  }
 ],
 "metadata": {
  "interpreter": {
   "hash": "b3ba2566441a7c06988d0923437866b63cedc61552a5af99d1f4fb67d367b25f"
  },
  "kernelspec": {
   "display_name": "Python 3.9.7 ('base')",
   "language": "python",
   "name": "python3"
  },
  "language_info": {
   "codemirror_mode": {
    "name": "ipython",
    "version": 3
   },
   "file_extension": ".py",
   "mimetype": "text/x-python",
   "name": "python",
   "nbconvert_exporter": "python",
   "pygments_lexer": "ipython3",
   "version": "3.9.7"
  },
  "orig_nbformat": 4
 },
 "nbformat": 4,
 "nbformat_minor": 2
}
