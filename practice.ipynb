{
 "cells": [
  {
   "cell_type": "code",
   "execution_count": 4,
   "metadata": {},
   "outputs": [
    {
     "name": "stdout",
     "output_type": "stream",
     "text": [
      "5538.96\n"
     ]
    }
   ],
   "source": [
    "radius = int(input(\"Enter the radius of circle\"))\n",
    "area_of_circle = 3.14 * radius*radius\n",
    "print(area_of_circle)"
   ]
  },
  {
   "cell_type": "code",
   "execution_count": 11,
   "metadata": {},
   "outputs": [
    {
     "data": {
      "text/plain": [
       "1080.0"
      ]
     },
     "execution_count": 11,
     "metadata": {},
     "output_type": "execute_result"
    }
   ],
   "source": [
    "base = float(input('Enter the base of the triangle'))\n",
    "height = float(input('Enter the height of the triangle'))\n",
    "area_of_triangle = 0.5*base*height\n",
    "area_of_triangle"
   ]
  },
  {
   "cell_type": "code",
   "execution_count": 9,
   "metadata": {},
   "outputs": [
    {
     "name": "stdout",
     "output_type": "stream",
     "text": [
      "444.0 88.8 88.8\n"
     ]
    }
   ],
   "source": [
    "sub1 =float (input (\"Enter marks\"))\n",
    "sub2 =float (input (\"Enter marks\"))\n",
    "sub3 =float (input (\"Enter marks\"))\n",
    "sub4 =float (input (\"Enter marks\"))\n",
    "sub5 =float (input (\"Enter marks\"))\n",
    "\n",
    "total = sub1 + sub2 + sub3 + sub4 + sub5\n",
    "average = total/5\n",
    "percentage = (total/500)*100\n",
    "\n",
    "print(total, percentage,average)"
   ]
  },
  {
   "cell_type": "code",
   "execution_count": 10,
   "metadata": {},
   "outputs": [
    {
     "name": "stdout",
     "output_type": "stream",
     "text": [
      "48 45\n"
     ]
    }
   ],
   "source": [
    "x = int(input(\"enter the number\"))\n",
    "y = int(input(\"enter the number\"))\n",
    "x,y =y,x\n",
    "print(x,y)"
   ]
  },
  {
   "cell_type": "code",
   "execution_count": 22,
   "metadata": {},
   "outputs": [
    {
     "name": "stdout",
     "output_type": "stream",
     "text": [
      "The ascii value of the character S is 83\n"
     ]
    }
   ],
   "source": [
    "character = input('Enter the character')\n",
    "print(f'The ascii value of the character {character} is' , ord(character))"
   ]
  },
  {
   "cell_type": "code",
   "execution_count": 23,
   "metadata": {},
   "outputs": [
    {
     "name": "stdout",
     "output_type": "stream",
     "text": [
      "225\n"
     ]
    }
   ],
   "source": [
    "z = int(input(\"Enter the number of first natural numbers\"))\n",
    "\n",
    "cube = 0\n",
    "for i in range(1, z+1) : \n",
    "    cube += i*i*i\n",
    "\n",
    "print(cube)"
   ]
  },
  {
   "cell_type": "code",
   "execution_count": 24,
   "metadata": {},
   "outputs": [
    {
     "name": "stdout",
     "output_type": "stream",
     "text": [
      "The factorial of 6 is 720\n"
     ]
    }
   ],
   "source": [
    "z = int(input(\"Enter the number\"))\n",
    "fact = 1\n",
    "\n",
    "if z < 0:\n",
    "   print(\"enter a valid number\")\n",
    "elif z == 0:\n",
    "   print(f\"The factorial of {z} is {fact}\")\n",
    "else :\n",
    "    for i in range(1 , z+1):\n",
    "        fact = fact * i \n",
    "    print(f\"The factorial of {z} is {fact}\")\n",
    "    \n"
   ]
  },
  {
   "cell_type": "code",
   "execution_count": 21,
   "metadata": {},
   "outputs": [
    {
     "name": "stdout",
     "output_type": "stream",
     "text": [
      "452.15999999999997\n"
     ]
    }
   ],
   "source": [
    "radius = int(input(\"Enter the radius of circle\"))\n",
    "area_of_circle = 3.14 * radius*radius\n",
    "print(area_of_circle)"
   ]
  },
  {
   "cell_type": "code",
   "execution_count": 1,
   "metadata": {},
   "outputs": [
    {
     "name": "stdout",
     "output_type": "stream",
     "text": [
      "Pratik 20BCS2820\n"
     ]
    }
   ],
   "source": [
    "def name_uid(name, uid):\n",
    "   \n",
    "    print(name,uid)\n",
    "\n",
    "name_uid(\"Pratik\",\"20BCS2820\")"
   ]
  },
  {
   "cell_type": "code",
   "execution_count": 3,
   "metadata": {},
   "outputs": [
    {
     "name": "stdout",
     "output_type": "stream",
     "text": [
      "even\n"
     ]
    }
   ],
   "source": [
    "def even_odd(number):\n",
    "    if(number% 2 == 0):\n",
    "        print(\"even\")\n",
    "    else:\n",
    "        print(\"odd\")\n",
    "\n",
    "even_odd(12)"
   ]
  },
  {
   "cell_type": "code",
   "execution_count": 7,
   "metadata": {},
   "outputs": [
    {
     "name": "stdout",
     "output_type": "stream",
     "text": [
      "20 is greater\n"
     ]
    }
   ],
   "source": [
    "def number(a,b,c):\n",
    "    if (a>=b) and (a>=c) :\n",
    "        print(a, \"is greater\") \n",
    "    elif (b>=a) and (b>=c) :\n",
    "        print(b, \"is greater\") \n",
    "    else :\n",
    "        print(c, \"is greater\")\n",
    "\n",
    "a = input(\"Enter num1 : \") \n",
    "b = input(\"Enter num2 : \") \n",
    "c = input(\"Enter num3 : \") \n",
    "number(a,b,c)"
   ]
  },
  {
   "cell_type": "code",
   "execution_count": 6,
   "metadata": {},
   "outputs": [
    {
     "name": "stdout",
     "output_type": "stream",
     "text": [
      "The factorial of 10 is 3628800\n"
     ]
    }
   ],
   "source": [
    "def factorial(z):\n",
    "    fact = 1\n",
    "\n",
    "    if z < 0:\n",
    "        print(\"enter a valid number\")\n",
    "    elif z == 0:\n",
    "        print(f\"The factorial of {z} is {fact}\")\n",
    "    else :\n",
    "        for i in range(1 , z+1):\n",
    "            fact = fact * i \n",
    "        print(f\"The factorial of {z} is {fact}\")\n",
    "    \n",
    "z = int(input(\"Enter the number\"))\n",
    "factorial(z)\n",
    "    "
   ]
  },
  {
   "cell_type": "code",
   "execution_count": 9,
   "metadata": {},
   "outputs": [
    {
     "name": "stdout",
     "output_type": "stream",
     "text": [
      "15\n"
     ]
    }
   ],
   "source": [
    "def add(a,b):\n",
    "    return a+b\n",
    "def calculate(a,b,add) :\n",
    "    return add(a,b)\n",
    "\n",
    "result = calculate(10,5,add)\n",
    "print(result)\n"
   ]
  }
 ],
 "metadata": {
  "interpreter": {
   "hash": "b3ba2566441a7c06988d0923437866b63cedc61552a5af99d1f4fb67d367b25f"
  },
  "kernelspec": {
   "display_name": "Python 3.9.7 ('base')",
   "language": "python",
   "name": "python3"
  },
  "language_info": {
   "codemirror_mode": {
    "name": "ipython",
    "version": 3
   },
   "file_extension": ".py",
   "mimetype": "text/x-python",
   "name": "python",
   "nbconvert_exporter": "python",
   "pygments_lexer": "ipython3",
   "version": "3.9.7"
  },
  "orig_nbformat": 4
 },
 "nbformat": 4,
 "nbformat_minor": 2
}
